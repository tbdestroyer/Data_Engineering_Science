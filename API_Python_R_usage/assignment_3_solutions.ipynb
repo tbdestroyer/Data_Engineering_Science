{
 "cells": [
  {
   "cell_type": "markdown",
   "id": "b540bddb",
   "metadata": {},
   "source": [
    "### Assignment 3\n",
    "Taner Bulbul  \n",
    "INST 447"
   ]
  },
  {
   "cell_type": "markdown",
   "id": "c09e58b0",
   "metadata": {},
   "source": [
    "## Research Question: \n",
    "Which data science tool is more popular in the data science/statistics community pandas or R?  \n",
    "\n",
    "## Citations  \n",
    "These are some of the articles also compare the pandas/python and R  \n",
    "\n",
    "(1)  Bob Hayes, Analytics, Artificial Intelligence, Data Science (June 29, 2020), https://businessoverbroadway.com/2020/06/29/usage-of-programming-languages-by-data-scientists-python-grows-while-r-weakens/  \n",
    "(2) Towards Data Science, (Sep 2, 2022), https://towardsdatascience.com/python-vs-r-for-data-science-did-you-make-the-right-choice-7d090dca4786  \n",
    "\n",
    "### API and Data Source links\n",
    "https://api.stackexchange.com/docs\n",
    "\n",
    "\n",
    "**Explanation of the results and analysis are also summarized under each calculation/graph.**\n",
    "### Take-away message\n",
    "\n",
    "Overall there are almost twice as many R questions than pandas questions in the three sites (519,000 vs 280,000). Stackoveflow site has the most R and pandas questions among all three sites with much higher R questions than pandas questions. Number of R and pandas questions are much smaller on the stats and datascience sites. Stats.dataexchange has almost exclusively R questions. Datascience.stackexchnage site has the smallest number of R and pandas questions among all three sites and about equal amount of questions between R and pandas.\n",
    "\n",
    "Relative number of R and pandas questions in stackoverflow and datascience sites are small compared to the overall questions in all areas (1-2% in stackoverflow and 3-4% in datascience). Stats.stackexchnage site seems the highest relative questions at 14% for R questions.\n",
    "\n",
    "Stackoverflow and datascience sites have the pandas questions increasing from 2010 to 2022 compared to R questions, while stats.stackexchnage site keeps its R questions dominance compared to pandas questions, but number of question for R is still much less than the R questions on the other two sites.\n",
    "\n",
    "### Limitations  \n",
    "\n",
    "We only analyzed using the number of questions on these sites. We looked at \"pandas\" tags rather than \"python\" tag and some of the datascience questions are likely to be asked under the python on these sites. Wev could use other attributes such as number of answers.\n",
    "\n",
    "### Challenges  \n",
    "\n",
    "We could analyze the number of answers which may show a better indication of the popularity or expertise in these tools.\n",
    "\n",
    "According to (1), \"The results of the Kaggle survey of nearly 20,000 data professionals paint a clear picture about the most popular programming languages for data professionals. Python, by far, continues to be the most popular programming language used by data professionals, followed by SQL and R.\"  \n",
    "\n",
    "According to (2), \"A quick comparison between the keywords “python data science” and “r data science” on Google Trends reveals the interest in both programming languages over the past 5 years worldwide. Google Trends\n",
    "Undoubtedly, Python is more popular than R for data science\"\n"
   ]
  },
  {
   "cell_type": "code",
   "execution_count": 43,
   "id": "b9c9511f",
   "metadata": {},
   "outputs": [],
   "source": [
    "import requests\n",
    "import json\n",
    "import pandas as pd\n",
    "import matplotlib.pyplot as plt\n",
    "import numpy as np\n",
    "import seaborn as sns\n",
    "import urllib3\n",
    "urllib3.disable_warnings()"
   ]
  },
  {
   "cell_type": "markdown",
   "id": "1c4b06d4",
   "metadata": {},
   "source": [
    "### Following code makes 9 API calls to stackexchange.com. stackexchange.com allows 300 requests per day for free.\n",
    "The numbers will slighly change everytime you run it especially stackoverflow qquestions go up pretty often"
   ]
  },
  {
   "cell_type": "code",
   "execution_count": 45,
   "id": "bda32611",
   "metadata": {},
   "outputs": [
    {
     "name": "stdout",
     "output_type": "stream",
     "text": [
      "278835 stackoverflow pandas\n",
      "489169 stackoverflow R\n",
      "23674617 stackoverflow site_total\n",
      "165 stats pandas\n",
      "28765 stats R\n",
      "206570 stats site_total\n",
      "1310 datascience pandas\n",
      "1477 datascience R\n",
      "36050 datascience site_total\n"
     ]
    }
   ],
   "source": [
    "#set query parameters for the API request\n",
    "taglist=[\"tagged=pandas&\",\"tagged=R&\", \"\"] # empty \"\" tag gets the total questions overall\n",
    "sitelist=[\"&site=stackoverflow\",\"&site=stats.stackexchange\",\"&site=datascience.stackexchange\" ]\n",
    "toollist=['pandas', 'R', 'site_total']\n",
    "\n",
    "#collect each site data in a dictionary of dataframes\n",
    "df_dict={'stackoverflow':pd.DataFrame(),\n",
    "         'stats':pd.DataFrame(),\n",
    "          'datascience':pd.DataFrame()\n",
    "        }\n",
    "\n",
    "for i,n in enumerate(df_dict.keys()): # iterate each site\n",
    "    df_dict[n].at[i,['site'] ] = n  # add 'site' column to the dataframe\n",
    "    for j,t in enumerate(taglist):\n",
    "        api_result = requests.get('https://api.stackexchange.com/2.3/questions?order=desc&sort=activity&'+\n",
    "                              t+'filter=total'+ sitelist[i],verify=False)\n",
    "        \n",
    "        #check if API call is successful\n",
    "        if(api_result.status_code != 200):\n",
    "                    print(\"Error in API response \",api_result.status_code)\n",
    "                    print(n,toollist[j])\n",
    "                    break;\n",
    "        api_response = api_result.json()\n",
    "    \n",
    "        df_dict[n].at[i,  toollist[j]] = api_response['total'] # add the columns and counts\n",
    "        \n",
    "        if(toollist[j] == 'site_total'):\n",
    "            df_dict[n].at[i, 'pandas_percent']  = df_dict[n].at[i, 'pandas'] / df_dict[n].at[i, 'site_total'] *100\n",
    "            df_dict[n].at[i, 'R_percent']  = df_dict[n].at[i, 'R'] / df_dict[n].at[i, 'site_total'] *100\n",
    "        print(api_response['total'],n, toollist[j] )\n"
   ]
  },
  {
   "cell_type": "code",
   "execution_count": 46,
   "id": "18dbbd35",
   "metadata": {},
   "outputs": [
    {
     "data": {
      "text/html": [
       "<div>\n",
       "<style scoped>\n",
       "    .dataframe tbody tr th:only-of-type {\n",
       "        vertical-align: middle;\n",
       "    }\n",
       "\n",
       "    .dataframe tbody tr th {\n",
       "        vertical-align: top;\n",
       "    }\n",
       "\n",
       "    .dataframe thead th {\n",
       "        text-align: right;\n",
       "    }\n",
       "</style>\n",
       "<table border=\"1\" class=\"dataframe\">\n",
       "  <thead>\n",
       "    <tr style=\"text-align: right;\">\n",
       "      <th></th>\n",
       "      <th>site</th>\n",
       "      <th>pandas</th>\n",
       "      <th>R</th>\n",
       "      <th>site_total</th>\n",
       "      <th>pandas_percent</th>\n",
       "      <th>R_percent</th>\n",
       "    </tr>\n",
       "  </thead>\n",
       "  <tbody>\n",
       "    <tr>\n",
       "      <th>0</th>\n",
       "      <td>stackoverflow</td>\n",
       "      <td>278835.0</td>\n",
       "      <td>489169.0</td>\n",
       "      <td>23674617.0</td>\n",
       "      <td>1.177780</td>\n",
       "      <td>2.066217</td>\n",
       "    </tr>\n",
       "    <tr>\n",
       "      <th>1</th>\n",
       "      <td>stats</td>\n",
       "      <td>165.0</td>\n",
       "      <td>28765.0</td>\n",
       "      <td>206570.0</td>\n",
       "      <td>0.079876</td>\n",
       "      <td>13.925062</td>\n",
       "    </tr>\n",
       "    <tr>\n",
       "      <th>2</th>\n",
       "      <td>datascience</td>\n",
       "      <td>1310.0</td>\n",
       "      <td>1477.0</td>\n",
       "      <td>36050.0</td>\n",
       "      <td>3.633842</td>\n",
       "      <td>4.097087</td>\n",
       "    </tr>\n",
       "  </tbody>\n",
       "</table>\n",
       "</div>"
      ],
      "text/plain": [
       "            site    pandas         R  site_total  pandas_percent  R_percent\n",
       "0  stackoverflow  278835.0  489169.0  23674617.0        1.177780   2.066217\n",
       "1          stats     165.0   28765.0    206570.0        0.079876  13.925062\n",
       "2    datascience    1310.0    1477.0     36050.0        3.633842   4.097087"
      ]
     },
     "execution_count": 46,
     "metadata": {},
     "output_type": "execute_result"
    }
   ],
   "source": [
    "#combine the data frames\n",
    "comb_df = pd.concat([df_dict['stackoverflow'], df_dict['stats'],df_dict['datascience']  ])\n",
    "comb_df\n"
   ]
  },
  {
   "cell_type": "code",
   "execution_count": 47,
   "id": "6020d763",
   "metadata": {},
   "outputs": [
    {
     "data": {
      "image/png": "[encoded data removed]",
      "text/plain": [
       "<Figure size 576x432 with 1 Axes>"
      ]
     },
     "metadata": {
      "needs_background": "light"
     },
     "output_type": "display_data"
    }
   ],
   "source": [
    "cats =['R', 'pandas']\n",
    "values= [comb_df.R.sum(), comb_df.pandas.sum()]\n",
    "\n",
    "# Bar plot\n",
    "fig, ax = plt.subplots()\n",
    "fig.set_size_inches(8,6)\n",
    "ax.bar(x = cats, height = values, width = 0.5 )\n",
    "\n",
    "\n",
    "# values labels\n",
    "for i, vals in enumerate(values):\n",
    "  ax.text(i, vals + 0.5, round(vals),\n",
    "          ha = 'center', weight = 'bold', color = 'black')\n",
    "\n",
    "ax.set_title(\"Total Pandas and R Questions posted on Stack Exchange Sites \\n (Stackoverflow,stats.stackexchange and datascience.stackexchange)\")\n",
    "ax.set_xlabel('Tool')\n",
    "ax.set_ylabel('Number of questions')\n",
    "\n",
    "plt.show()"
   ]
  },
  {
   "cell_type": "markdown",
   "id": "7600c622",
   "metadata": {},
   "source": [
    "### Analysis  \n",
    "Total R and pandas questions posted on all 3 sites. We see that overall there are lmost twice as many R questions than pandas questions,"
   ]
  },
  {
   "cell_type": "code",
   "execution_count": 48,
   "id": "5aed39ba",
   "metadata": {},
   "outputs": [
    {
     "data": {
      "image/png": "[encoded data removed]",
      "text/plain": [
       "<Figure size 864x864 with 1 Axes>"
      ]
     },
     "metadata": {
      "needs_background": "light"
     },
     "output_type": "display_data"
    }
   ],
   "source": [
    "# Let's compare R and pandas question per each site\n",
    "groups = comb_df.site\n",
    "values1 = comb_df.pandas\n",
    "values2 = comb_df.R\n",
    "\n",
    "fig, ax = plt.subplots()\n",
    "fig.set_size_inches(12,12)\n",
    "# Stacked bar chart\n",
    "ax.bar(groups, values1, label = \"pandas\")\n",
    "ax.bar(groups, values2, bottom = values1, label = \"R\")\n",
    "\n",
    "# Labels\n",
    "for bar in ax.patches:\n",
    "  ax.text(bar.get_x() + bar.get_width() / 2,\n",
    "          bar.get_height() / 2 + bar.get_y(),\n",
    "          round(bar.get_height()), ha = 'center',\n",
    "          color = 'w', weight = 'bold', size = 10)\n",
    "\n",
    "# Sum of values\n",
    "total_values = np.add(values1, values2)\n",
    "\n",
    "# Total values labels\n",
    "for i, total in enumerate(total_values):\n",
    "  ax.text(i, total + 0.5, round(total),\n",
    "          ha = 'center', weight = 'bold', color = 'black')\n",
    "\n",
    "ax.legend()\n",
    "\n",
    "ax.set_title(\"Pandas and R Questions posted on Stack Exchange Sites \")\n",
    "ax.set_xlabel('Datascience Q&A Site')\n",
    "ax.set_ylabel('Number of questions')\n",
    "\n",
    "plt.show()"
   ]
  },
  {
   "cell_type": "markdown",
   "id": "4122182e",
   "metadata": {},
   "source": [
    "### Analysis  \n",
    "We see that stackoverflow has the highest number of R and pndas question among all three sites and it has more R questions posted than the pandas questions. stats site has a lot more R questions than pandas questions.Datascience site has about equal amount of R and pandas questions but overall it has very few R and pandas questions compared to the other two sites. Statistics questions on stats site is heavily in R."
   ]
  },
  {
   "cell_type": "code",
   "execution_count": 49,
   "id": "d78beb85",
   "metadata": {},
   "outputs": [
    {
     "data": {
      "image/png": "[encoded data removed]",
      "text/plain": [
       "<Figure size 864x576 with 1 Axes>"
      ]
     },
     "metadata": {
      "needs_background": "light"
     },
     "output_type": "display_data"
    }
   ],
   "source": [
    "# Let's notmalize the R and pandas questions to the overall questions in each site and compare the ratios\n",
    "# of R and pandas questions to the overall site questions\n",
    "groups = comb_df.site\n",
    "values1 = comb_df.pandas_percent\n",
    "values2 = comb_df.R_percent\n",
    "\n",
    "fig, ax = plt.subplots()\n",
    "fig.set_size_inches(12,8)\n",
    "# Stacked bar chart\n",
    "ax.bar(groups, values1, label = \"pandas\")\n",
    "ax.bar(groups, values2, bottom = values1, label = \"R\")\n",
    "\n",
    "# Labels\n",
    "for bar in ax.patches:\n",
    "  ax.text(bar.get_x() + bar.get_width() / 2,\n",
    "          bar.get_height() / 2 + bar.get_y(),\n",
    "          str(round(bar.get_height(),3))+'%', ha = 'center',\n",
    "          color = 'w', weight = 'bold', size = 10)\n",
    "\n",
    "# Sum of values\n",
    "total_values = np.add(values1, values2)\n",
    "\n",
    "# Total values labels\n",
    "for i, total in enumerate(total_values):\n",
    "  ax.text(i, total + 0.3, str(round(total,3))+'%',\n",
    "          ha = 'center', weight = 'bold', color = 'black')\n",
    "\n",
    "ax.legend()\n",
    "ax.set_title(\"Pandas and R Questions posted on Stack Exchange Sites Ratios to their site total\")\n",
    "ax.set_xlabel('Datascience Q&A Site')\n",
    "ax.set_ylabel('Ratio of R, pandas question to overall questions per site')\n",
    "\n",
    "plt.show()"
   ]
  },
  {
   "cell_type": "markdown",
   "id": "5536e2b5",
   "metadata": {},
   "source": [
    "### Analysis  \n",
    "We see that only 1-2% of the overall questions on stackoverflow is about R and pandas and R questions are almost twice as much as the pandas questions.  \n",
    "\n",
    "Stats site has almost 14% of all the questions are in R and very small pandas. Datascience site seems to be very popular for R questions.\n",
    "\n",
    "Datascience site has about 4% of R and pandas question on the site."
   ]
  },
  {
   "cell_type": "markdown",
   "id": "2cfafbe8",
   "metadata": {},
   "source": [
    "## Let's analyze each site one buy one"
   ]
  },
  {
   "cell_type": "code",
   "execution_count": 32,
   "id": "86f119b5",
   "metadata": {
    "scrolled": true
   },
   "outputs": [
    {
     "data": {
      "text/html": [
       "<div>\n",
       "<style scoped>\n",
       "    .dataframe tbody tr th:only-of-type {\n",
       "        vertical-align: middle;\n",
       "    }\n",
       "\n",
       "    .dataframe tbody tr th {\n",
       "        vertical-align: top;\n",
       "    }\n",
       "\n",
       "    .dataframe thead th {\n",
       "        text-align: right;\n",
       "    }\n",
       "</style>\n",
       "<table border=\"1\" class=\"dataframe\">\n",
       "  <thead>\n",
       "    <tr style=\"text-align: right;\">\n",
       "      <th></th>\n",
       "      <th>site</th>\n",
       "      <th>pandas</th>\n",
       "      <th>R</th>\n",
       "      <th>site_total</th>\n",
       "      <th>pandas_percent</th>\n",
       "      <th>R_percent</th>\n",
       "    </tr>\n",
       "  </thead>\n",
       "  <tbody>\n",
       "    <tr>\n",
       "      <th>0</th>\n",
       "      <td>stackoverflow</td>\n",
       "      <td>278883.0</td>\n",
       "      <td>488971.0</td>\n",
       "      <td>23674178.0</td>\n",
       "      <td>1.178005</td>\n",
       "      <td>2.065419</td>\n",
       "    </tr>\n",
       "  </tbody>\n",
       "</table>\n",
       "</div>"
      ],
      "text/plain": [
       "            site    pandas         R  site_total  pandas_percent  R_percent\n",
       "0  stackoverflow  278883.0  488971.0  23674178.0        1.178005   2.065419"
      ]
     },
     "execution_count": 32,
     "metadata": {},
     "output_type": "execute_result"
    }
   ],
   "source": [
    "df_dict['stackoverflow']"
   ]
  },
  {
   "cell_type": "code",
   "execution_count": 35,
   "id": "2ea5f5a0",
   "metadata": {
    "scrolled": false
   },
   "outputs": [
    {
     "data": {
      "image/png": "[encoded data removed]",
      "text/plain": [
       "<Figure size 576x432 with 1 Axes>"
      ]
     },
     "metadata": {
      "needs_background": "light"
     },
     "output_type": "display_data"
    }
   ],
   "source": [
    "cats =['R', 'pandas']\n",
    "values= [df_dict['stackoverflow'].R.sum(),df_dict['stackoverflow'].pandas.sum()]\n",
    "\n",
    "# Bar plot\n",
    "fig, ax = plt.subplots()\n",
    "fig.set_size_inches(8,6)\n",
    "ax.bar(x = cats, height = values, width = 0.5 )\n",
    "\n",
    "# values labels\n",
    "for i, vals in enumerate(values):\n",
    "  ax.text(i, vals + 0.5, round(vals),\n",
    "          ha = 'center', weight = 'bold', color = 'black')\n",
    "\n",
    "ax.set_title(\"Total Pandas and R Questions posted on Stackoverflow\")\n",
    "ax.set_xlabel('Tool')\n",
    "ax.set_ylabel('Number of questions')\n",
    "\n",
    "plt.show()"
   ]
  },
  {
   "cell_type": "markdown",
   "id": "ee3f9684",
   "metadata": {},
   "source": [
    "stackoverflow site has almost twice as many R questions than pandas questions. Stackoverflow is alos the most popular site for R and pndas questions."
   ]
  },
  {
   "cell_type": "code",
   "execution_count": 37,
   "id": "1ecb3a27",
   "metadata": {},
   "outputs": [
    {
     "data": {
      "text/html": [
       "<div>\n",
       "<style scoped>\n",
       "    .dataframe tbody tr th:only-of-type {\n",
       "        vertical-align: middle;\n",
       "    }\n",
       "\n",
       "    .dataframe tbody tr th {\n",
       "        vertical-align: top;\n",
       "    }\n",
       "\n",
       "    .dataframe thead th {\n",
       "        text-align: right;\n",
       "    }\n",
       "</style>\n",
       "<table border=\"1\" class=\"dataframe\">\n",
       "  <thead>\n",
       "    <tr style=\"text-align: right;\">\n",
       "      <th></th>\n",
       "      <th>site</th>\n",
       "      <th>pandas</th>\n",
       "      <th>R</th>\n",
       "      <th>site_total</th>\n",
       "      <th>pandas_percent</th>\n",
       "      <th>R_percent</th>\n",
       "    </tr>\n",
       "  </thead>\n",
       "  <tbody>\n",
       "    <tr>\n",
       "      <th>1</th>\n",
       "      <td>stats</td>\n",
       "      <td>164.0</td>\n",
       "      <td>28768.0</td>\n",
       "      <td>206552.0</td>\n",
       "      <td>0.079399</td>\n",
       "      <td>13.927728</td>\n",
       "    </tr>\n",
       "  </tbody>\n",
       "</table>\n",
       "</div>"
      ],
      "text/plain": [
       "    site  pandas        R  site_total  pandas_percent  R_percent\n",
       "1  stats   164.0  28768.0    206552.0        0.079399  13.927728"
      ]
     },
     "execution_count": 37,
     "metadata": {},
     "output_type": "execute_result"
    }
   ],
   "source": [
    "df_dict['stats']"
   ]
  },
  {
   "cell_type": "code",
   "execution_count": 36,
   "id": "74ad4ebc",
   "metadata": {},
   "outputs": [
    {
     "data": {
      "image/png": "[encoded data removed]",
      "text/plain": [
       "<Figure size 576x432 with 1 Axes>"
      ]
     },
     "metadata": {
      "needs_background": "light"
     },
     "output_type": "display_data"
    }
   ],
   "source": [
    "cats =['R', 'pandas']\n",
    "values= [df_dict['stats'].R.sum(),df_dict['stats'].pandas.sum()]\n",
    "\n",
    "# Bar plot\n",
    "fig, ax = plt.subplots()\n",
    "fig.set_size_inches(8,6)\n",
    "ax.bar(x = cats, height = values, width = 0.5 )\n",
    "\n",
    "# values labels\n",
    "for i, vals in enumerate(values):\n",
    "  ax.text(i, vals + 0.5, round(vals),\n",
    "          ha = 'center', weight = 'bold', color = 'black')\n",
    "\n",
    "ax.set_title(\"Total Pandas and R Questions posted on stats.stackexchange\")\n",
    "ax.set_xlabel('Tool')\n",
    "ax.set_ylabel('Number of questions')\n",
    "\n",
    "plt.show()"
   ]
  },
  {
   "cell_type": "markdown",
   "id": "204e476e",
   "metadata": {},
   "source": [
    "### Analysis  \n",
    "\n",
    "There are very small pandas questions on stats.stackexcahange and heavily R questions. Statisticians seem to use R language more than python overall."
   ]
  },
  {
   "cell_type": "code",
   "execution_count": 38,
   "id": "cc8f5f66",
   "metadata": {},
   "outputs": [
    {
     "data": {
      "text/html": [
       "<div>\n",
       "<style scoped>\n",
       "    .dataframe tbody tr th:only-of-type {\n",
       "        vertical-align: middle;\n",
       "    }\n",
       "\n",
       "    .dataframe tbody tr th {\n",
       "        vertical-align: top;\n",
       "    }\n",
       "\n",
       "    .dataframe thead th {\n",
       "        text-align: right;\n",
       "    }\n",
       "</style>\n",
       "<table border=\"1\" class=\"dataframe\">\n",
       "  <thead>\n",
       "    <tr style=\"text-align: right;\">\n",
       "      <th></th>\n",
       "      <th>site</th>\n",
       "      <th>pandas</th>\n",
       "      <th>R</th>\n",
       "      <th>site_total</th>\n",
       "      <th>pandas_percent</th>\n",
       "      <th>R_percent</th>\n",
       "    </tr>\n",
       "  </thead>\n",
       "  <tbody>\n",
       "    <tr>\n",
       "      <th>2</th>\n",
       "      <td>datascience</td>\n",
       "      <td>1311.0</td>\n",
       "      <td>1477.0</td>\n",
       "      <td>36090.0</td>\n",
       "      <td>3.632585</td>\n",
       "      <td>4.092546</td>\n",
       "    </tr>\n",
       "  </tbody>\n",
       "</table>\n",
       "</div>"
      ],
      "text/plain": [
       "          site  pandas       R  site_total  pandas_percent  R_percent\n",
       "2  datascience  1311.0  1477.0     36090.0        3.632585   4.092546"
      ]
     },
     "execution_count": 38,
     "metadata": {},
     "output_type": "execute_result"
    }
   ],
   "source": [
    "df_dict['datascience']"
   ]
  },
  {
   "cell_type": "code",
   "execution_count": 39,
   "id": "b7d22c4f",
   "metadata": {},
   "outputs": [
    {
     "data": {
      "image/png": "[encoded data removed]",
      "text/plain": [
       "<Figure size 576x432 with 1 Axes>"
      ]
     },
     "metadata": {
      "needs_background": "light"
     },
     "output_type": "display_data"
    }
   ],
   "source": [
    "cats =['R', 'pandas']\n",
    "values= [df_dict['datascience'].R.sum(),df_dict['datascience'].pandas.sum()]\n",
    "\n",
    "# Bar plot\n",
    "fig, ax = plt.subplots()\n",
    "fig.set_size_inches(8,6)\n",
    "ax.bar(x = cats, height = values, width = 0.5 )\n",
    "\n",
    "# values labels\n",
    "for i, vals in enumerate(values):\n",
    "  ax.text(i, vals + 0.5, round(vals),\n",
    "          ha = 'center', weight = 'bold', color = 'black')\n",
    "\n",
    "ax.set_title(\"Total Pandas and R Questions posted on datascience.stackexchange\")\n",
    "ax.set_xlabel('Tool')\n",
    "ax.set_ylabel('Number of questions')\n",
    "\n",
    "plt.show()"
   ]
  },
  {
   "cell_type": "markdown",
   "id": "76fb5a03",
   "metadata": {},
   "source": [
    "### Analysis  \n",
    "\n",
    "datascience.stackexchnage site has small number of R and pandas questions with R questions slightly higher. This site doesn't seem to be used much for R and pandas questions."
   ]
  },
  {
   "cell_type": "markdown",
   "id": "0c20e49e",
   "metadata": {},
   "source": [
    "## Analyze site statistics from 2010 through 2022  \n",
    "\n",
    "It would also make sense to analyze the R and pandas questions trends on these sites over time in addition to the overall numbers we analyzed above. This would show how the popularity of these tools are changing over time."
   ]
  },
  {
   "cell_type": "code",
   "execution_count": 11,
   "id": "32973e03",
   "metadata": {},
   "outputs": [],
   "source": [
    "import calendar\n",
    "\n",
    "taglist=[\"tagged=pandas&\",\"tagged=R&\"] \n",
    "toollist=['pandas', 'R']\n",
    "\n",
    "# Function collects R and pandas questions on the given list of sites and date range\n",
    "def get_questions(date_list,site):\n",
    "    df = pd.DataFrame()\n",
    "    epoch_list = [calendar.timegm(date_list[i].timetuple()) for i in range(0,len(date_list))]\n",
    "    for i, y in enumerate(dt_2010_2022, start = 0 ):\n",
    "\n",
    "        if i < (len(dt_2010_2022)-1):\n",
    "            df.loc[i,'timestamp'] = date_list[i+1]\n",
    "            df.loc[i,'site'] = site\n",
    "            for j,t in enumerate(taglist):\n",
    "                api_result = requests.get('https://api.stackexchange.com/2.3/questions?fromdate='+str(epoch_list[i])+'&'+'todate='+\n",
    "                                            str(epoch_list[i+1])+'&'+ 'order=desc&sort=activity&'+ t+'filter=total&site='+ site,verify=False)\n",
    "\n",
    "                #print('http://api.stackexchange.com/2.3/questions?fromdate='+str(epoch_list[i])+'&'+'todate='+\n",
    "                                            str(epoch_list[i+1])+'&'+ 'order=desc&sort=activity&'+ t+'filter=total&site='+ site)\n",
    "                if(api_result.status_code != 200):\n",
    "                    print(\"Error in API response \",api_result.status_code)\n",
    "                    print(site, y,  toollist[j])\n",
    "                    break;\n",
    "                else:   \n",
    "                    api_response = api_result.json()\n",
    "                    df.loc[i,  toollist[j]] = api_response['total'] # add the columns and counts\n",
    "                    \n",
    "            df.loc[i,  'total_R_pandas'] = df.loc[i,'pandas'] + df.loc[i,'R']\n",
    "\n",
    "\n",
    "    return df\n",
    "        "
   ]
  },
  {
   "cell_type": "markdown",
   "id": "cc557d89",
   "metadata": {},
   "source": [
    "### Following code is commented out as it makes 78 API calls ( 13 years, R and pandas, 3 sites) to populate data from 2010 through 2022. Data is already collected and stored using this code in csv files. It can be uncommented if needed to read the data from API"
   ]
  },
  {
   "cell_type": "code",
   "execution_count": null,
   "id": "18ec0a66",
   "metadata": {},
   "outputs": [],
   "source": [
    "#generate a date list from 2010 to 2022\n",
    "dt_2010_2022 = pd.date_range(start=\"2009-01-01\",end=\"2022-12-31\", freq='A')"
   ]
  },
  {
   "cell_type": "code",
   "execution_count": null,
   "id": "f10f18d7",
   "metadata": {},
   "outputs": [],
   "source": [
    "#stackoverflow_df = get_questions(dt_2010_2022, 'stackoverflow')\n",
    "#stackoverflow_df.to_csv('./stackoverflow_2010_2022.csv',index=False)"
   ]
  },
  {
   "cell_type": "code",
   "execution_count": null,
   "id": "9ab83031",
   "metadata": {},
   "outputs": [],
   "source": [
    "#stats_df = get_questions(dt_2010_2022, 'stats.stackexchange')\n",
    "#stats_df.to_csv('./stats_2010_2022.csv',index=False)"
   ]
  },
  {
   "cell_type": "code",
   "execution_count": null,
   "id": "04dca943",
   "metadata": {},
   "outputs": [],
   "source": [
    "#datascience_df = get_questions(dt_2010_2022, 'datascience.stackexchange')\n",
    "#datascience_df.to_csv('./datascience_2010_2022.csv',index=False)\n"
   ]
  },
  {
   "cell_type": "markdown",
   "id": "1ba916fb",
   "metadata": {},
   "source": [
    "### Read previously generated data from API calls above"
   ]
  },
  {
   "cell_type": "code",
   "execution_count": 50,
   "id": "d50c630d",
   "metadata": {},
   "outputs": [],
   "source": [
    "#Read from previously generated data (reduce API calls)\n",
    "stackoverflow_df= pd.read_csv('./stackoverflow_2010_2022.csv')\n",
    "stats_df= pd.read_csv('./stats_2010_2022.csv')\n",
    "datascience_df = pd.read_csv('./datascience_2010_2022.csv')\n"
   ]
  },
  {
   "cell_type": "markdown",
   "id": "5d61f1c9",
   "metadata": {},
   "source": [
    "## Stackoverflow site from 2010 through 2022"
   ]
  },
  {
   "cell_type": "code",
   "execution_count": 51,
   "id": "cb3773b4",
   "metadata": {},
   "outputs": [
    {
     "data": {
      "text/html": [
       "<div>\n",
       "<style scoped>\n",
       "    .dataframe tbody tr th:only-of-type {\n",
       "        vertical-align: middle;\n",
       "    }\n",
       "\n",
       "    .dataframe tbody tr th {\n",
       "        vertical-align: top;\n",
       "    }\n",
       "\n",
       "    .dataframe thead th {\n",
       "        text-align: right;\n",
       "    }\n",
       "</style>\n",
       "<table border=\"1\" class=\"dataframe\">\n",
       "  <thead>\n",
       "    <tr style=\"text-align: right;\">\n",
       "      <th></th>\n",
       "      <th>timestamp</th>\n",
       "      <th>site</th>\n",
       "      <th>pandas</th>\n",
       "      <th>R</th>\n",
       "      <th>total_R_pandas</th>\n",
       "    </tr>\n",
       "  </thead>\n",
       "  <tbody>\n",
       "    <tr>\n",
       "      <th>0</th>\n",
       "      <td>2010-12-31</td>\n",
       "      <td>stackoverflow</td>\n",
       "      <td>2.0</td>\n",
       "      <td>2258.0</td>\n",
       "      <td>2260.0</td>\n",
       "    </tr>\n",
       "    <tr>\n",
       "      <th>1</th>\n",
       "      <td>2011-12-31</td>\n",
       "      <td>stackoverflow</td>\n",
       "      <td>14.0</td>\n",
       "      <td>5826.0</td>\n",
       "      <td>5840.0</td>\n",
       "    </tr>\n",
       "    <tr>\n",
       "      <th>2</th>\n",
       "      <td>2012-12-31</td>\n",
       "      <td>stackoverflow</td>\n",
       "      <td>748.0</td>\n",
       "      <td>12149.0</td>\n",
       "      <td>12897.0</td>\n",
       "    </tr>\n",
       "    <tr>\n",
       "      <th>3</th>\n",
       "      <td>2013-12-31</td>\n",
       "      <td>stackoverflow</td>\n",
       "      <td>3031.0</td>\n",
       "      <td>22145.0</td>\n",
       "      <td>25176.0</td>\n",
       "    </tr>\n",
       "    <tr>\n",
       "      <th>4</th>\n",
       "      <td>2014-12-31</td>\n",
       "      <td>stackoverflow</td>\n",
       "      <td>5660.0</td>\n",
       "      <td>30743.0</td>\n",
       "      <td>36403.0</td>\n",
       "    </tr>\n",
       "    <tr>\n",
       "      <th>5</th>\n",
       "      <td>2015-12-31</td>\n",
       "      <td>stackoverflow</td>\n",
       "      <td>8974.0</td>\n",
       "      <td>40597.0</td>\n",
       "      <td>49571.0</td>\n",
       "    </tr>\n",
       "    <tr>\n",
       "      <th>6</th>\n",
       "      <td>2016-12-31</td>\n",
       "      <td>stackoverflow</td>\n",
       "      <td>15246.0</td>\n",
       "      <td>44304.0</td>\n",
       "      <td>59550.0</td>\n",
       "    </tr>\n",
       "    <tr>\n",
       "      <th>7</th>\n",
       "      <td>2017-12-31</td>\n",
       "      <td>stackoverflow</td>\n",
       "      <td>23160.0</td>\n",
       "      <td>50895.0</td>\n",
       "      <td>74055.0</td>\n",
       "    </tr>\n",
       "    <tr>\n",
       "      <th>8</th>\n",
       "      <td>2018-12-31</td>\n",
       "      <td>stackoverflow</td>\n",
       "      <td>31343.0</td>\n",
       "      <td>51970.0</td>\n",
       "      <td>83313.0</td>\n",
       "    </tr>\n",
       "    <tr>\n",
       "      <th>9</th>\n",
       "      <td>2019-12-31</td>\n",
       "      <td>stackoverflow</td>\n",
       "      <td>38715.0</td>\n",
       "      <td>49959.0</td>\n",
       "      <td>88674.0</td>\n",
       "    </tr>\n",
       "    <tr>\n",
       "      <th>10</th>\n",
       "      <td>2020-12-31</td>\n",
       "      <td>stackoverflow</td>\n",
       "      <td>50290.0</td>\n",
       "      <td>59940.0</td>\n",
       "      <td>110230.0</td>\n",
       "    </tr>\n",
       "    <tr>\n",
       "      <th>11</th>\n",
       "      <td>2021-12-31</td>\n",
       "      <td>stackoverflow</td>\n",
       "      <td>45626.0</td>\n",
       "      <td>51584.0</td>\n",
       "      <td>97210.0</td>\n",
       "    </tr>\n",
       "    <tr>\n",
       "      <th>12</th>\n",
       "      <td>2022-12-31</td>\n",
       "      <td>stackoverflow</td>\n",
       "      <td>45781.0</td>\n",
       "      <td>51079.0</td>\n",
       "      <td>96860.0</td>\n",
       "    </tr>\n",
       "  </tbody>\n",
       "</table>\n",
       "</div>"
      ],
      "text/plain": [
       "     timestamp           site   pandas        R  total_R_pandas\n",
       "0   2010-12-31  stackoverflow      2.0   2258.0          2260.0\n",
       "1   2011-12-31  stackoverflow     14.0   5826.0          5840.0\n",
       "2   2012-12-31  stackoverflow    748.0  12149.0         12897.0\n",
       "3   2013-12-31  stackoverflow   3031.0  22145.0         25176.0\n",
       "4   2014-12-31  stackoverflow   5660.0  30743.0         36403.0\n",
       "5   2015-12-31  stackoverflow   8974.0  40597.0         49571.0\n",
       "6   2016-12-31  stackoverflow  15246.0  44304.0         59550.0\n",
       "7   2017-12-31  stackoverflow  23160.0  50895.0         74055.0\n",
       "8   2018-12-31  stackoverflow  31343.0  51970.0         83313.0\n",
       "9   2019-12-31  stackoverflow  38715.0  49959.0         88674.0\n",
       "10  2020-12-31  stackoverflow  50290.0  59940.0        110230.0\n",
       "11  2021-12-31  stackoverflow  45626.0  51584.0         97210.0\n",
       "12  2022-12-31  stackoverflow  45781.0  51079.0         96860.0"
      ]
     },
     "execution_count": 51,
     "metadata": {},
     "output_type": "execute_result"
    }
   ],
   "source": [
    "stackoverflow_df"
   ]
  },
  {
   "cell_type": "code",
   "execution_count": 54,
   "id": "2e1cb84b",
   "metadata": {},
   "outputs": [
    {
     "data": {
      "text/html": [
       "<div>\n",
       "<style scoped>\n",
       "    .dataframe tbody tr th:only-of-type {\n",
       "        vertical-align: middle;\n",
       "    }\n",
       "\n",
       "    .dataframe tbody tr th {\n",
       "        vertical-align: top;\n",
       "    }\n",
       "\n",
       "    .dataframe thead th {\n",
       "        text-align: right;\n",
       "    }\n",
       "</style>\n",
       "<table border=\"1\" class=\"dataframe\">\n",
       "  <thead>\n",
       "    <tr style=\"text-align: right;\">\n",
       "      <th></th>\n",
       "      <th>pandas</th>\n",
       "      <th>R</th>\n",
       "      <th>total_R_pandas</th>\n",
       "    </tr>\n",
       "  </thead>\n",
       "  <tbody>\n",
       "    <tr>\n",
       "      <th>count</th>\n",
       "      <td>13.000000</td>\n",
       "      <td>13.000000</td>\n",
       "      <td>13.000000</td>\n",
       "    </tr>\n",
       "    <tr>\n",
       "      <th>mean</th>\n",
       "      <td>20660.769231</td>\n",
       "      <td>36419.153846</td>\n",
       "      <td>57079.923077</td>\n",
       "    </tr>\n",
       "    <tr>\n",
       "      <th>std</th>\n",
       "      <td>19428.964332</td>\n",
       "      <td>19664.649911</td>\n",
       "      <td>37730.498898</td>\n",
       "    </tr>\n",
       "    <tr>\n",
       "      <th>min</th>\n",
       "      <td>2.000000</td>\n",
       "      <td>2258.000000</td>\n",
       "      <td>2260.000000</td>\n",
       "    </tr>\n",
       "    <tr>\n",
       "      <th>25%</th>\n",
       "      <td>3031.000000</td>\n",
       "      <td>22145.000000</td>\n",
       "      <td>25176.000000</td>\n",
       "    </tr>\n",
       "    <tr>\n",
       "      <th>50%</th>\n",
       "      <td>15246.000000</td>\n",
       "      <td>44304.000000</td>\n",
       "      <td>59550.000000</td>\n",
       "    </tr>\n",
       "    <tr>\n",
       "      <th>75%</th>\n",
       "      <td>38715.000000</td>\n",
       "      <td>51079.000000</td>\n",
       "      <td>88674.000000</td>\n",
       "    </tr>\n",
       "    <tr>\n",
       "      <th>max</th>\n",
       "      <td>50290.000000</td>\n",
       "      <td>59940.000000</td>\n",
       "      <td>110230.000000</td>\n",
       "    </tr>\n",
       "  </tbody>\n",
       "</table>\n",
       "</div>"
      ],
      "text/plain": [
       "             pandas             R  total_R_pandas\n",
       "count     13.000000     13.000000       13.000000\n",
       "mean   20660.769231  36419.153846    57079.923077\n",
       "std    19428.964332  19664.649911    37730.498898\n",
       "min        2.000000   2258.000000     2260.000000\n",
       "25%     3031.000000  22145.000000    25176.000000\n",
       "50%    15246.000000  44304.000000    59550.000000\n",
       "75%    38715.000000  51079.000000    88674.000000\n",
       "max    50290.000000  59940.000000   110230.000000"
      ]
     },
     "execution_count": 54,
     "metadata": {},
     "output_type": "execute_result"
    }
   ],
   "source": [
    "#Let's look at some summary statistics at stackoverflow 2010 through 2022\n",
    "stackoverflow_df.describe()"
   ]
  },
  {
   "cell_type": "code",
   "execution_count": 55,
   "id": "8a96dfe6",
   "metadata": {},
   "outputs": [
    {
     "data": {
      "image/png": "[encoded data removed]",
      "text/plain": [
       "<Figure size 1152x432 with 1 Axes>"
      ]
     },
     "metadata": {
      "needs_background": "light"
     },
     "output_type": "display_data"
    }
   ],
   "source": [
    "from matplotlib import dates as mdates\n",
    "\n",
    "fig,ax=plt.subplots(1, 1, figsize=(16, 6))\n",
    "\n",
    "\n",
    "ax.plot(stackoverflow_df.timestamp,stackoverflow_df.pandas,color='red', linewidth=2, label=\"pandas\")\n",
    "ax.plot(stackoverflow_df.timestamp,stackoverflow_df.R,color='blue', linewidth=2, label=\"R\")\n",
    "plt.title('Stackoverflow site pandas and R questions posted, 2010 through 2022')\n",
    "plt.xlabel('Date')\n",
    "plt.ylabel('Number of questions posted on the site')\n",
    "plt.legend(loc='upper right', ncol=1)\n",
    "\n",
    "ax.grid()\n",
    "plt.show()"
   ]
  },
  {
   "cell_type": "markdown",
   "id": "4da89695",
   "metadata": {},
   "source": [
    "### Analysis  \n",
    "\n",
    "When we look at the stackoverflow R vs. pandas from 2010 through 2022, we see that until 2016, R questions were about 30,000 more than pandas questions. After 2016, pandas questions increased compared to R questions and last 2 years the difference is about 6,000 questions more in R than pandas per year and seems to be flattened out at 45,000 for pandas and 51,000 for R 2021 to 2022 and there is a slight decrease in number of R questions 2021 to 2022 compared to pandas questions. Pandas questions becoming more popular."
   ]
  },
  {
   "cell_type": "markdown",
   "id": "a1b829dc",
   "metadata": {},
   "source": [
    "## stats.stackexchange site from 2010 through 2022"
   ]
  },
  {
   "cell_type": "code",
   "execution_count": 56,
   "id": "ba61b3c1",
   "metadata": {},
   "outputs": [
    {
     "data": {
      "text/html": [
       "<div>\n",
       "<style scoped>\n",
       "    .dataframe tbody tr th:only-of-type {\n",
       "        vertical-align: middle;\n",
       "    }\n",
       "\n",
       "    .dataframe tbody tr th {\n",
       "        vertical-align: top;\n",
       "    }\n",
       "\n",
       "    .dataframe thead th {\n",
       "        text-align: right;\n",
       "    }\n",
       "</style>\n",
       "<table border=\"1\" class=\"dataframe\">\n",
       "  <thead>\n",
       "    <tr style=\"text-align: right;\">\n",
       "      <th></th>\n",
       "      <th>timestamp</th>\n",
       "      <th>site</th>\n",
       "      <th>pandas</th>\n",
       "      <th>R</th>\n",
       "      <th>total_R_pandas</th>\n",
       "    </tr>\n",
       "  </thead>\n",
       "  <tbody>\n",
       "    <tr>\n",
       "      <th>0</th>\n",
       "      <td>2010-12-31</td>\n",
       "      <td>stats.stackexchange</td>\n",
       "      <td>0.0</td>\n",
       "      <td>257.0</td>\n",
       "      <td>257.0</td>\n",
       "    </tr>\n",
       "    <tr>\n",
       "      <th>1</th>\n",
       "      <td>2011-12-31</td>\n",
       "      <td>stats.stackexchange</td>\n",
       "      <td>0.0</td>\n",
       "      <td>997.0</td>\n",
       "      <td>997.0</td>\n",
       "    </tr>\n",
       "    <tr>\n",
       "      <th>2</th>\n",
       "      <td>2012-12-31</td>\n",
       "      <td>stats.stackexchange</td>\n",
       "      <td>1.0</td>\n",
       "      <td>1471.0</td>\n",
       "      <td>1472.0</td>\n",
       "    </tr>\n",
       "    <tr>\n",
       "      <th>3</th>\n",
       "      <td>2013-12-31</td>\n",
       "      <td>stats.stackexchange</td>\n",
       "      <td>1.0</td>\n",
       "      <td>1907.0</td>\n",
       "      <td>1908.0</td>\n",
       "    </tr>\n",
       "    <tr>\n",
       "      <th>4</th>\n",
       "      <td>2014-12-31</td>\n",
       "      <td>stats.stackexchange</td>\n",
       "      <td>0.0</td>\n",
       "      <td>2552.0</td>\n",
       "      <td>2552.0</td>\n",
       "    </tr>\n",
       "    <tr>\n",
       "      <th>5</th>\n",
       "      <td>2015-12-31</td>\n",
       "      <td>stats.stackexchange</td>\n",
       "      <td>11.0</td>\n",
       "      <td>2998.0</td>\n",
       "      <td>3009.0</td>\n",
       "    </tr>\n",
       "    <tr>\n",
       "      <th>6</th>\n",
       "      <td>2016-12-31</td>\n",
       "      <td>stats.stackexchange</td>\n",
       "      <td>14.0</td>\n",
       "      <td>2863.0</td>\n",
       "      <td>2877.0</td>\n",
       "    </tr>\n",
       "    <tr>\n",
       "      <th>7</th>\n",
       "      <td>2017-12-31</td>\n",
       "      <td>stats.stackexchange</td>\n",
       "      <td>15.0</td>\n",
       "      <td>2565.0</td>\n",
       "      <td>2580.0</td>\n",
       "    </tr>\n",
       "    <tr>\n",
       "      <th>8</th>\n",
       "      <td>2018-12-31</td>\n",
       "      <td>stats.stackexchange</td>\n",
       "      <td>23.0</td>\n",
       "      <td>2519.0</td>\n",
       "      <td>2542.0</td>\n",
       "    </tr>\n",
       "    <tr>\n",
       "      <th>9</th>\n",
       "      <td>2019-12-31</td>\n",
       "      <td>stats.stackexchange</td>\n",
       "      <td>28.0</td>\n",
       "      <td>2305.0</td>\n",
       "      <td>2333.0</td>\n",
       "    </tr>\n",
       "    <tr>\n",
       "      <th>10</th>\n",
       "      <td>2020-12-31</td>\n",
       "      <td>stats.stackexchange</td>\n",
       "      <td>24.0</td>\n",
       "      <td>2861.0</td>\n",
       "      <td>2885.0</td>\n",
       "    </tr>\n",
       "    <tr>\n",
       "      <th>11</th>\n",
       "      <td>2021-12-31</td>\n",
       "      <td>stats.stackexchange</td>\n",
       "      <td>20.0</td>\n",
       "      <td>2140.0</td>\n",
       "      <td>2160.0</td>\n",
       "    </tr>\n",
       "    <tr>\n",
       "      <th>12</th>\n",
       "      <td>2022-12-31</td>\n",
       "      <td>stats.stackexchange</td>\n",
       "      <td>22.0</td>\n",
       "      <td>2429.0</td>\n",
       "      <td>2451.0</td>\n",
       "    </tr>\n",
       "  </tbody>\n",
       "</table>\n",
       "</div>"
      ],
      "text/plain": [
       "     timestamp                 site  pandas       R  total_R_pandas\n",
       "0   2010-12-31  stats.stackexchange     0.0   257.0           257.0\n",
       "1   2011-12-31  stats.stackexchange     0.0   997.0           997.0\n",
       "2   2012-12-31  stats.stackexchange     1.0  1471.0          1472.0\n",
       "3   2013-12-31  stats.stackexchange     1.0  1907.0          1908.0\n",
       "4   2014-12-31  stats.stackexchange     0.0  2552.0          2552.0\n",
       "5   2015-12-31  stats.stackexchange    11.0  2998.0          3009.0\n",
       "6   2016-12-31  stats.stackexchange    14.0  2863.0          2877.0\n",
       "7   2017-12-31  stats.stackexchange    15.0  2565.0          2580.0\n",
       "8   2018-12-31  stats.stackexchange    23.0  2519.0          2542.0\n",
       "9   2019-12-31  stats.stackexchange    28.0  2305.0          2333.0\n",
       "10  2020-12-31  stats.stackexchange    24.0  2861.0          2885.0\n",
       "11  2021-12-31  stats.stackexchange    20.0  2140.0          2160.0\n",
       "12  2022-12-31  stats.stackexchange    22.0  2429.0          2451.0"
      ]
     },
     "execution_count": 56,
     "metadata": {},
     "output_type": "execute_result"
    }
   ],
   "source": [
    "stats_df"
   ]
  },
  {
   "cell_type": "code",
   "execution_count": 57,
   "id": "8754297b",
   "metadata": {},
   "outputs": [
    {
     "data": {
      "text/html": [
       "<div>\n",
       "<style scoped>\n",
       "    .dataframe tbody tr th:only-of-type {\n",
       "        vertical-align: middle;\n",
       "    }\n",
       "\n",
       "    .dataframe tbody tr th {\n",
       "        vertical-align: top;\n",
       "    }\n",
       "\n",
       "    .dataframe thead th {\n",
       "        text-align: right;\n",
       "    }\n",
       "</style>\n",
       "<table border=\"1\" class=\"dataframe\">\n",
       "  <thead>\n",
       "    <tr style=\"text-align: right;\">\n",
       "      <th></th>\n",
       "      <th>pandas</th>\n",
       "      <th>R</th>\n",
       "      <th>total_R_pandas</th>\n",
       "    </tr>\n",
       "  </thead>\n",
       "  <tbody>\n",
       "    <tr>\n",
       "      <th>count</th>\n",
       "      <td>13.000000</td>\n",
       "      <td>13.000000</td>\n",
       "      <td>13.000000</td>\n",
       "    </tr>\n",
       "    <tr>\n",
       "      <th>mean</th>\n",
       "      <td>12.230769</td>\n",
       "      <td>2143.384615</td>\n",
       "      <td>2155.615385</td>\n",
       "    </tr>\n",
       "    <tr>\n",
       "      <th>std</th>\n",
       "      <td>10.693876</td>\n",
       "      <td>802.980338</td>\n",
       "      <td>809.407658</td>\n",
       "    </tr>\n",
       "    <tr>\n",
       "      <th>min</th>\n",
       "      <td>0.000000</td>\n",
       "      <td>257.000000</td>\n",
       "      <td>257.000000</td>\n",
       "    </tr>\n",
       "    <tr>\n",
       "      <th>25%</th>\n",
       "      <td>1.000000</td>\n",
       "      <td>1907.000000</td>\n",
       "      <td>1908.000000</td>\n",
       "    </tr>\n",
       "    <tr>\n",
       "      <th>50%</th>\n",
       "      <td>14.000000</td>\n",
       "      <td>2429.000000</td>\n",
       "      <td>2451.000000</td>\n",
       "    </tr>\n",
       "    <tr>\n",
       "      <th>75%</th>\n",
       "      <td>22.000000</td>\n",
       "      <td>2565.000000</td>\n",
       "      <td>2580.000000</td>\n",
       "    </tr>\n",
       "    <tr>\n",
       "      <th>max</th>\n",
       "      <td>28.000000</td>\n",
       "      <td>2998.000000</td>\n",
       "      <td>3009.000000</td>\n",
       "    </tr>\n",
       "  </tbody>\n",
       "</table>\n",
       "</div>"
      ],
      "text/plain": [
       "          pandas            R  total_R_pandas\n",
       "count  13.000000    13.000000       13.000000\n",
       "mean   12.230769  2143.384615     2155.615385\n",
       "std    10.693876   802.980338      809.407658\n",
       "min     0.000000   257.000000      257.000000\n",
       "25%     1.000000  1907.000000     1908.000000\n",
       "50%    14.000000  2429.000000     2451.000000\n",
       "75%    22.000000  2565.000000     2580.000000\n",
       "max    28.000000  2998.000000     3009.000000"
      ]
     },
     "execution_count": 57,
     "metadata": {},
     "output_type": "execute_result"
    }
   ],
   "source": [
    "stats_df.describe()"
   ]
  },
  {
   "cell_type": "code",
   "execution_count": 58,
   "id": "680cfa2f",
   "metadata": {},
   "outputs": [
    {
     "data": {
      "image/png": "[encoded data removed]",
      "text/plain": [
       "<Figure size 1152x432 with 1 Axes>"
      ]
     },
     "metadata": {
      "needs_background": "light"
     },
     "output_type": "display_data"
    }
   ],
   "source": [
    "from matplotlib import dates as mdates\n",
    "\n",
    "fig,ax=plt.subplots(1, 1, figsize=(16, 6))\n",
    "\n",
    "\n",
    "ax.plot(stats_df.timestamp,stats_df.pandas,color='red', linewidth=2, label=\"pandas\")\n",
    "ax.plot(stats_df.timestamp,stats_df.R,color='blue', linewidth=2, label=\"R\")\n",
    "plt.title('stats.stackexchange site pandas and R questions posted, 2010 through 2022')\n",
    "plt.xlabel('Date')\n",
    "plt.ylabel('Number of questions posted on the site')\n",
    "plt.legend(loc='upper right', ncol=1)\n",
    "\n",
    "ax.grid()\n",
    "plt.show()"
   ]
  },
  {
   "cell_type": "code",
   "execution_count": null,
   "id": "89b0d2f4",
   "metadata": {},
   "outputs": [],
   "source": []
  },
  {
   "cell_type": "markdown",
   "id": "d6f87e25",
   "metadata": {},
   "source": [
    "### Analysis  \n",
    "stats.stackexchange site shows dominated by R questions compared to pandas questions, Pandas questions are pretty flat for the 13 years. R questions had a steep increase from 2010 through 2015 but seems flattened out since 2015 at about 2100 question on average per year."
   ]
  },
  {
   "cell_type": "markdown",
   "id": "1ef4a006",
   "metadata": {},
   "source": [
    "## datascience.stackexchange site from 2010 through 2022"
   ]
  },
  {
   "cell_type": "code",
   "execution_count": 59,
   "id": "d85209df",
   "metadata": {},
   "outputs": [
    {
     "data": {
      "text/html": [
       "<div>\n",
       "<style scoped>\n",
       "    .dataframe tbody tr th:only-of-type {\n",
       "        vertical-align: middle;\n",
       "    }\n",
       "\n",
       "    .dataframe tbody tr th {\n",
       "        vertical-align: top;\n",
       "    }\n",
       "\n",
       "    .dataframe thead th {\n",
       "        text-align: right;\n",
       "    }\n",
       "</style>\n",
       "<table border=\"1\" class=\"dataframe\">\n",
       "  <thead>\n",
       "    <tr style=\"text-align: right;\">\n",
       "      <th></th>\n",
       "      <th>timestamp</th>\n",
       "      <th>site</th>\n",
       "      <th>pandas</th>\n",
       "      <th>R</th>\n",
       "      <th>total_R_pandas</th>\n",
       "    </tr>\n",
       "  </thead>\n",
       "  <tbody>\n",
       "    <tr>\n",
       "      <th>0</th>\n",
       "      <td>2010-12-31</td>\n",
       "      <td>datascience.stackexchange</td>\n",
       "      <td>0.0</td>\n",
       "      <td>0.0</td>\n",
       "      <td>0.0</td>\n",
       "    </tr>\n",
       "    <tr>\n",
       "      <th>1</th>\n",
       "      <td>2011-12-31</td>\n",
       "      <td>datascience.stackexchange</td>\n",
       "      <td>0.0</td>\n",
       "      <td>0.0</td>\n",
       "      <td>0.0</td>\n",
       "    </tr>\n",
       "    <tr>\n",
       "      <th>2</th>\n",
       "      <td>2012-12-31</td>\n",
       "      <td>datascience.stackexchange</td>\n",
       "      <td>0.0</td>\n",
       "      <td>0.0</td>\n",
       "      <td>0.0</td>\n",
       "    </tr>\n",
       "    <tr>\n",
       "      <th>3</th>\n",
       "      <td>2013-12-31</td>\n",
       "      <td>datascience.stackexchange</td>\n",
       "      <td>0.0</td>\n",
       "      <td>0.0</td>\n",
       "      <td>0.0</td>\n",
       "    </tr>\n",
       "    <tr>\n",
       "      <th>4</th>\n",
       "      <td>2014-12-31</td>\n",
       "      <td>datascience.stackexchange</td>\n",
       "      <td>8.0</td>\n",
       "      <td>54.0</td>\n",
       "      <td>62.0</td>\n",
       "    </tr>\n",
       "    <tr>\n",
       "      <th>5</th>\n",
       "      <td>2015-12-31</td>\n",
       "      <td>datascience.stackexchange</td>\n",
       "      <td>8.0</td>\n",
       "      <td>152.0</td>\n",
       "      <td>160.0</td>\n",
       "    </tr>\n",
       "    <tr>\n",
       "      <th>6</th>\n",
       "      <td>2016-12-31</td>\n",
       "      <td>datascience.stackexchange</td>\n",
       "      <td>55.0</td>\n",
       "      <td>212.0</td>\n",
       "      <td>267.0</td>\n",
       "    </tr>\n",
       "    <tr>\n",
       "      <th>7</th>\n",
       "      <td>2017-12-31</td>\n",
       "      <td>datascience.stackexchange</td>\n",
       "      <td>86.0</td>\n",
       "      <td>204.0</td>\n",
       "      <td>290.0</td>\n",
       "    </tr>\n",
       "    <tr>\n",
       "      <th>8</th>\n",
       "      <td>2018-12-31</td>\n",
       "      <td>datascience.stackexchange</td>\n",
       "      <td>208.0</td>\n",
       "      <td>202.0</td>\n",
       "      <td>410.0</td>\n",
       "    </tr>\n",
       "    <tr>\n",
       "      <th>9</th>\n",
       "      <td>2019-12-31</td>\n",
       "      <td>datascience.stackexchange</td>\n",
       "      <td>315.0</td>\n",
       "      <td>195.0</td>\n",
       "      <td>510.0</td>\n",
       "    </tr>\n",
       "    <tr>\n",
       "      <th>10</th>\n",
       "      <td>2020-12-31</td>\n",
       "      <td>datascience.stackexchange</td>\n",
       "      <td>243.0</td>\n",
       "      <td>192.0</td>\n",
       "      <td>435.0</td>\n",
       "    </tr>\n",
       "    <tr>\n",
       "      <th>11</th>\n",
       "      <td>2021-12-31</td>\n",
       "      <td>datascience.stackexchange</td>\n",
       "      <td>192.0</td>\n",
       "      <td>128.0</td>\n",
       "      <td>320.0</td>\n",
       "    </tr>\n",
       "    <tr>\n",
       "      <th>12</th>\n",
       "      <td>2022-12-31</td>\n",
       "      <td>datascience.stackexchange</td>\n",
       "      <td>160.0</td>\n",
       "      <td>112.0</td>\n",
       "      <td>272.0</td>\n",
       "    </tr>\n",
       "  </tbody>\n",
       "</table>\n",
       "</div>"
      ],
      "text/plain": [
       "     timestamp                       site  pandas      R  total_R_pandas\n",
       "0   2010-12-31  datascience.stackexchange     0.0    0.0             0.0\n",
       "1   2011-12-31  datascience.stackexchange     0.0    0.0             0.0\n",
       "2   2012-12-31  datascience.stackexchange     0.0    0.0             0.0\n",
       "3   2013-12-31  datascience.stackexchange     0.0    0.0             0.0\n",
       "4   2014-12-31  datascience.stackexchange     8.0   54.0            62.0\n",
       "5   2015-12-31  datascience.stackexchange     8.0  152.0           160.0\n",
       "6   2016-12-31  datascience.stackexchange    55.0  212.0           267.0\n",
       "7   2017-12-31  datascience.stackexchange    86.0  204.0           290.0\n",
       "8   2018-12-31  datascience.stackexchange   208.0  202.0           410.0\n",
       "9   2019-12-31  datascience.stackexchange   315.0  195.0           510.0\n",
       "10  2020-12-31  datascience.stackexchange   243.0  192.0           435.0\n",
       "11  2021-12-31  datascience.stackexchange   192.0  128.0           320.0\n",
       "12  2022-12-31  datascience.stackexchange   160.0  112.0           272.0"
      ]
     },
     "execution_count": 59,
     "metadata": {},
     "output_type": "execute_result"
    }
   ],
   "source": [
    "datascience_df"
   ]
  },
  {
   "cell_type": "code",
   "execution_count": 60,
   "id": "53097368",
   "metadata": {},
   "outputs": [
    {
     "data": {
      "text/html": [
       "<div>\n",
       "<style scoped>\n",
       "    .dataframe tbody tr th:only-of-type {\n",
       "        vertical-align: middle;\n",
       "    }\n",
       "\n",
       "    .dataframe tbody tr th {\n",
       "        vertical-align: top;\n",
       "    }\n",
       "\n",
       "    .dataframe thead th {\n",
       "        text-align: right;\n",
       "    }\n",
       "</style>\n",
       "<table border=\"1\" class=\"dataframe\">\n",
       "  <thead>\n",
       "    <tr style=\"text-align: right;\">\n",
       "      <th></th>\n",
       "      <th>pandas</th>\n",
       "      <th>R</th>\n",
       "      <th>total_R_pandas</th>\n",
       "    </tr>\n",
       "  </thead>\n",
       "  <tbody>\n",
       "    <tr>\n",
       "      <th>count</th>\n",
       "      <td>13.000000</td>\n",
       "      <td>13.000000</td>\n",
       "      <td>13.000000</td>\n",
       "    </tr>\n",
       "    <tr>\n",
       "      <th>mean</th>\n",
       "      <td>98.076923</td>\n",
       "      <td>111.615385</td>\n",
       "      <td>209.692308</td>\n",
       "    </tr>\n",
       "    <tr>\n",
       "      <th>std</th>\n",
       "      <td>111.617996</td>\n",
       "      <td>89.091281</td>\n",
       "      <td>184.169480</td>\n",
       "    </tr>\n",
       "    <tr>\n",
       "      <th>min</th>\n",
       "      <td>0.000000</td>\n",
       "      <td>0.000000</td>\n",
       "      <td>0.000000</td>\n",
       "    </tr>\n",
       "    <tr>\n",
       "      <th>25%</th>\n",
       "      <td>0.000000</td>\n",
       "      <td>0.000000</td>\n",
       "      <td>0.000000</td>\n",
       "    </tr>\n",
       "    <tr>\n",
       "      <th>50%</th>\n",
       "      <td>55.000000</td>\n",
       "      <td>128.000000</td>\n",
       "      <td>267.000000</td>\n",
       "    </tr>\n",
       "    <tr>\n",
       "      <th>75%</th>\n",
       "      <td>192.000000</td>\n",
       "      <td>195.000000</td>\n",
       "      <td>320.000000</td>\n",
       "    </tr>\n",
       "    <tr>\n",
       "      <th>max</th>\n",
       "      <td>315.000000</td>\n",
       "      <td>212.000000</td>\n",
       "      <td>510.000000</td>\n",
       "    </tr>\n",
       "  </tbody>\n",
       "</table>\n",
       "</div>"
      ],
      "text/plain": [
       "           pandas           R  total_R_pandas\n",
       "count   13.000000   13.000000       13.000000\n",
       "mean    98.076923  111.615385      209.692308\n",
       "std    111.617996   89.091281      184.169480\n",
       "min      0.000000    0.000000        0.000000\n",
       "25%      0.000000    0.000000        0.000000\n",
       "50%     55.000000  128.000000      267.000000\n",
       "75%    192.000000  195.000000      320.000000\n",
       "max    315.000000  212.000000      510.000000"
      ]
     },
     "execution_count": 60,
     "metadata": {},
     "output_type": "execute_result"
    }
   ],
   "source": [
    "datascience_df.describe()"
   ]
  },
  {
   "cell_type": "code",
   "execution_count": 61,
   "id": "c99f7d0f",
   "metadata": {},
   "outputs": [
    {
     "data": {
      "image/png": "[encoded data removed]",
      "text/plain": [
       "<Figure size 1152x432 with 1 Axes>"
      ]
     },
     "metadata": {
      "needs_background": "light"
     },
     "output_type": "display_data"
    }
   ],
   "source": [
    "from matplotlib import dates as mdates\n",
    "\n",
    "fig,ax=plt.subplots(1, 1, figsize=(16, 6))\n",
    "\n",
    "ax.plot(datascience_df.timestamp,datascience_df.pandas,color='red', linewidth=2, label=\"pandas\")\n",
    "ax.plot(datascience_df.timestamp,datascience_df.R,color='blue', linewidth=2, label=\"R\")\n",
    "plt.title('datascience.stackexchange site pandas and R questions posted, 2010 through 2022')\n",
    "plt.xlabel('Date')\n",
    "plt.ylabel('Number of questions posted on the site')\n",
    "plt.legend(loc='upper right', ncol=1)\n",
    "\n",
    "ax.grid()\n",
    "plt.show()"
   ]
  },
  {
   "cell_type": "markdown",
   "id": "531a0ff5",
   "metadata": {},
   "source": [
    "### Analysis  \n",
    "\n",
    "datascience.stackexchange site shows a very interesting trend. When we looked at the overall site wide R and pandas questions earlier, R questions were higher than the pandas questions. The average also is higher for R questions than pandas from 2010 to 2022. When we look at the trend from 2010 to 2022, we see that pandas questions surpassed the R questions end of 2018 and pandas questions on this site peaked end of 2019 and keeps higher than R questions since end of 2019. We still need to be careful as the number of questions on both R and pandas are very small relative to the other two sites (stackoverflow and stats sites)"
   ]
  },
  {
   "cell_type": "code",
   "execution_count": null,
   "id": "8c97f32c",
   "metadata": {},
   "outputs": [],
   "source": []
  }
 ],
 "metadata": {
  "kernelspec": {
   "display_name": "Python 3 (ipykernel)",
   "language": "python",
   "name": "python3"
  },
  "language_info": {
   "codemirror_mode": {
    "name": "ipython",
    "version": 3
   },
   "file_extension": ".py",
   "mimetype": "text/x-python",
   "name": "python",
   "nbconvert_exporter": "python",
   "pygments_lexer": "ipython3",
   "version": "3.10.2"
  }
 },
 "nbformat": 4,
 "nbformat_minor": 5
}
