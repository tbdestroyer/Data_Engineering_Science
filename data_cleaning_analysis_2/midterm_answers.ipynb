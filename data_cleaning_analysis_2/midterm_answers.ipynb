{
 "cells": [
  {
   "cell_type": "markdown",
   "metadata": {},
   "source": [
    "# MidTerm - INST 447 - Spring 2023\n",
    "\n",
    "Your Name: "
   ]
  },
  {
   "cell_type": "markdown",
   "metadata": {},
   "source": [
    "## Instructions\n",
    "\n",
    "This MidTerm is to be completed individually. You may use any other reasonable resource to complete these tasks, with the exception of other people. You may use your notes, Internet resources, the course site, just not other students or individuals. The exlusion of other people includes the *asking* questions on StackOverflow or similar forums. However, you may refer answers to previously asked questions on those sites. Using ChatGPT or similiar AI code generation tools is not permitted. Out of an abundance of caution, disable your Tabnine or Copilot plugin for this exam.\n",
    "\n",
    "There are a total of 50 points available. Each question is section is worth 2 points and there are 25 questions. Questions are marked with the \"FILL-IN\". There are several text-only answers, those are in Markdown cells.\n",
    "\n",
    "This MidTerm Exam is take home and timely completion is required. Late submissions will be penalized to the following scale:\n",
    "> less than 24 hours: 20% deduction  \n",
    "> greater than 24 hours: Automatic 0\n",
    "\n",
    "\n",
    "Make sure that you read the exam to the end. This is not one of those tricks where the last question tells you to ignore all the rest. Instead, several question build upon the previous one, in these cases you may better understand the current questions task by knowing what the next question is expecting.\n",
    "  \n",
    "  \n",
    "### Where is the data?\n",
    "\n",
    "The data files are all in the data folder.\n",
    "  \n",
    "  \n",
    "### Answering Questions and Entering Text\n",
    "  \n",
    "This is a Jupyter Notebook file, which allows you to choose whether a cell contains *Python code* or *formated text*. To respond to a question that requires a text and already contains *formated text* double-click on the text near the \"FILL-IN\" to be able to edit the cell. \n",
    "  \n",
    "To answer a code question, enter your code that completes the requested task in the cell provided. Do not feel like you are not limited to one line of code. You may also add cells (though make sure that it is clear what cell answers the questions).\n",
    "\n",
    "Using the inappropriate type of cell for a response will result in point deductions."
   ]
  },
  {
   "cell_type": "markdown",
   "metadata": {},
   "source": [
    "### Honor Pledge\n",
    "\n",
    "The University has a nationally recognized Honor Code, administered by the Student Honor Council. The Student Honor Council proposed and the University Senate approved an Honor Pledge. The University of Maryland Honor Pledge reads:\n",
    "\n",
    "> *I pledge on my honor that I have not given or received any unauthorized assistance on this assignment/examination.*\n",
    "\n",
    "Please type the honor pledge into the space below. Students who fail to write and sign the Pledge will be asked to confer with the instructor.\n"
   ]
  },
  {
   "cell_type": "markdown",
   "metadata": {},
   "source": [
    " *Double-Click to Type the honor code here*"
   ]
  },
  {
   "cell_type": "code",
   "execution_count": 1,
   "metadata": {},
   "outputs": [],
   "source": [
    "import pandas as pd\n",
    "import numpy as np\n",
    "import matplotlib.pyplot as plt\n",
    "%matplotlib inline"
   ]
  },
  {
   "cell_type": "markdown",
   "metadata": {},
   "source": [
    "There are two files. One called \"voting.csv\" the other is called \"gender.csv\". Create 2 data frames. One called `voting` and the other called `gender` and fill them with the data from the corresponding file.  \n",
    "Use relative paths to load load the files."
   ]
  },
  {
   "cell_type": "markdown",
   "metadata": {},
   "source": [
    "**(1)** Load 'voting.csv' from the data folder into a DataFrame called `voting`"
   ]
  },
  {
   "cell_type": "code",
   "execution_count": 2,
   "metadata": {},
   "outputs": [
    {
     "data": {
      "text/html": [
       "<div>\n",
       "<style scoped>\n",
       "    .dataframe tbody tr th:only-of-type {\n",
       "        vertical-align: middle;\n",
       "    }\n",
       "\n",
       "    .dataframe tbody tr th {\n",
       "        vertical-align: top;\n",
       "    }\n",
       "\n",
       "    .dataframe thead th {\n",
       "        text-align: right;\n",
       "    }\n",
       "</style>\n",
       "<table border=\"1\" class=\"dataframe\">\n",
       "  <thead>\n",
       "    <tr style=\"text-align: right;\">\n",
       "      <th></th>\n",
       "      <th>Year</th>\n",
       "      <th>18-24 Voted</th>\n",
       "      <th>18-24 Registered</th>\n",
       "      <th>25-44 Voted</th>\n",
       "      <th>25-44 Registered</th>\n",
       "      <th>45-64 Voted</th>\n",
       "      <th>45-64 Registered</th>\n",
       "      <th>65 and over Voted</th>\n",
       "      <th>65 and over Registered</th>\n",
       "      <th>Total Voted</th>\n",
       "      <th>Total Registered</th>\n",
       "    </tr>\n",
       "  </thead>\n",
       "  <tbody>\n",
       "    <tr>\n",
       "      <th>0</th>\n",
       "      <td>1980</td>\n",
       "      <td>?</td>\n",
       "      <td>?</td>\n",
       "      <td>?</td>\n",
       "      <td>?</td>\n",
       "      <td>?</td>\n",
       "      <td>?</td>\n",
       "      <td>?</td>\n",
       "      <td>?</td>\n",
       "      <td>?</td>\n",
       "      <td>?</td>\n",
       "    </tr>\n",
       "    <tr>\n",
       "      <th>1</th>\n",
       "      <td>1982</td>\n",
       "      <td>7139000</td>\n",
       "      <td>12227000</td>\n",
       "      <td>30343000</td>\n",
       "      <td>41103000</td>\n",
       "      <td>27491000</td>\n",
       "      <td>33422000</td>\n",
       "      <td>15336000</td>\n",
       "      <td>19245000</td>\n",
       "      <td>80309000</td>\n",
       "      <td>105997000</td>\n",
       "    </tr>\n",
       "    <tr>\n",
       "      <th>2</th>\n",
       "      <td>1984</td>\n",
       "      <td>?</td>\n",
       "      <td>?</td>\n",
       "      <td>?</td>\n",
       "      <td>?</td>\n",
       "      <td>?</td>\n",
       "      <td>?</td>\n",
       "      <td>?</td>\n",
       "      <td>?</td>\n",
       "      <td>?</td>\n",
       "      <td>?</td>\n",
       "    </tr>\n",
       "    <tr>\n",
       "      <th>3</th>\n",
       "      <td>1986</td>\n",
       "      <td>5782000</td>\n",
       "      <td>11109000</td>\n",
       "      <td>31003000</td>\n",
       "      <td>45790000</td>\n",
       "      <td>26305000</td>\n",
       "      <td>33528000</td>\n",
       "      <td>16865000</td>\n",
       "      <td>21300000</td>\n",
       "      <td>79955000</td>\n",
       "      <td>111727000</td>\n",
       "    </tr>\n",
       "    <tr>\n",
       "      <th>4</th>\n",
       "      <td>1988</td>\n",
       "      <td>9254000</td>\n",
       "      <td>12321000</td>\n",
       "      <td>42018000</td>\n",
       "      <td>49066000</td>\n",
       "      <td>31134000</td>\n",
       "      <td>34622000</td>\n",
       "      <td>19818000</td>\n",
       "      <td>22580000</td>\n",
       "      <td>102224000</td>\n",
       "      <td>118589000</td>\n",
       "    </tr>\n",
       "  </tbody>\n",
       "</table>\n",
       "</div>"
      ],
      "text/plain": [
       "   Year 18-24 Voted 18-24 Registered 25-44 Voted 25-44 Registered 45-64 Voted  \\\n",
       "0  1980           ?                ?           ?                ?           ?   \n",
       "1  1982     7139000         12227000    30343000         41103000    27491000   \n",
       "2  1984           ?                ?           ?                ?           ?   \n",
       "3  1986     5782000         11109000    31003000         45790000    26305000   \n",
       "4  1988     9254000         12321000    42018000         49066000    31134000   \n",
       "\n",
       "  45-64 Registered 65 and over Voted 65 and over Registered Total Voted  \\\n",
       "0                ?                 ?                      ?           ?   \n",
       "1         33422000          15336000               19245000    80309000   \n",
       "2                ?                 ?                      ?           ?   \n",
       "3         33528000          16865000               21300000    79955000   \n",
       "4         34622000          19818000               22580000   102224000   \n",
       "\n",
       "  Total Registered  \n",
       "0                ?  \n",
       "1        105997000  \n",
       "2                ?  \n",
       "3        111727000  \n",
       "4        118589000  "
      ]
     },
     "execution_count": 2,
     "metadata": {},
     "output_type": "execute_result"
    }
   ],
   "source": [
    "# FILL-IN 1\n",
    "voting = pd.read_csv('./data/voting.csv')\n",
    "voting.head()"
   ]
  },
  {
   "cell_type": "markdown",
   "metadata": {},
   "source": [
    "**(2)** Load 'gender.csv' from the data folder into a DataFrame called `gender`"
   ]
  },
  {
   "cell_type": "code",
   "execution_count": 3,
   "metadata": {},
   "outputs": [
    {
     "data": {
      "text/html": [
       "<div>\n",
       "<style scoped>\n",
       "    .dataframe tbody tr th:only-of-type {\n",
       "        vertical-align: middle;\n",
       "    }\n",
       "\n",
       "    .dataframe tbody tr th {\n",
       "        vertical-align: top;\n",
       "    }\n",
       "\n",
       "    .dataframe thead th {\n",
       "        text-align: right;\n",
       "    }\n",
       "</style>\n",
       "<table border=\"1\" class=\"dataframe\">\n",
       "  <thead>\n",
       "    <tr style=\"text-align: right;\">\n",
       "      <th></th>\n",
       "      <th>Year</th>\n",
       "      <th>Male</th>\n",
       "      <th>Female</th>\n",
       "      <th>Total Voted</th>\n",
       "    </tr>\n",
       "  </thead>\n",
       "  <tbody>\n",
       "    <tr>\n",
       "      <th>0</th>\n",
       "      <td>1980</td>\n",
       "      <td>43753000</td>\n",
       "      <td>49312000</td>\n",
       "      <td>93065000</td>\n",
       "    </tr>\n",
       "    <tr>\n",
       "      <th>1</th>\n",
       "      <td>1982</td>\n",
       "      <td>38025000</td>\n",
       "      <td>42285000</td>\n",
       "      <td>80309000</td>\n",
       "    </tr>\n",
       "    <tr>\n",
       "      <th>2</th>\n",
       "      <td>1984</td>\n",
       "      <td>47354000</td>\n",
       "      <td>54524000</td>\n",
       "      <td>101878000</td>\n",
       "    </tr>\n",
       "    <tr>\n",
       "      <th>3</th>\n",
       "      <td>1986</td>\n",
       "      <td>37729000</td>\n",
       "      <td>42225000</td>\n",
       "      <td>79955000</td>\n",
       "    </tr>\n",
       "    <tr>\n",
       "      <th>4</th>\n",
       "      <td>1988</td>\n",
       "      <td>?</td>\n",
       "      <td>?</td>\n",
       "      <td>?</td>\n",
       "    </tr>\n",
       "  </tbody>\n",
       "</table>\n",
       "</div>"
      ],
      "text/plain": [
       "   Year      Male    Female Total Voted\n",
       "0  1980  43753000  49312000    93065000\n",
       "1  1982  38025000  42285000    80309000\n",
       "2  1984  47354000  54524000   101878000\n",
       "3  1986  37729000  42225000    79955000\n",
       "4  1988         ?         ?           ?"
      ]
     },
     "execution_count": 3,
     "metadata": {},
     "output_type": "execute_result"
    }
   ],
   "source": [
    "# FILL-IN 2\n",
    "gender = pd.read_csv('./data/gender.csv')\n",
    "gender.head()"
   ]
  },
  {
   "cell_type": "markdown",
   "metadata": {},
   "source": [
    "**(3)** Perform Level 1 data cleaning on the *gender* dataframe.  \n",
    "Make sure that any missing values are converted to NaN.  \n",
    "Add comments that identify the aspect of Level 1 that a line or lines of code fixes."
   ]
  },
  {
   "cell_type": "code",
   "execution_count": 4,
   "metadata": {},
   "outputs": [],
   "source": [
    "# FILL-IN 4\n",
    "# dataframe has the default unique index already\n",
    "# rename columns to make it intuitive and codable, I see a 'Total_Voted' column on the voting dataframe so I\n",
    "# will name it specific to this table\n",
    "# Not reindexing to year column as I don't see a good reason to do it here\n",
    "gender = gender.rename(columns={'Total Voted':'Total_Voted_Gender'})\n",
    "#convert/replace '?' to NaN\n",
    "gender.replace('?', np.NaN,inplace=True)"
   ]
  },
  {
   "cell_type": "markdown",
   "metadata": {},
   "source": [
    "**(4)** *gender* contains 18 observations and 4 variables. The variables' data is numerical, but there may be missing values.\n",
    "\n",
    "Verify this information about the *gender* data frame using Pandas."
   ]
  },
  {
   "cell_type": "code",
   "execution_count": 5,
   "metadata": {},
   "outputs": [
    {
     "name": "stdout",
     "output_type": "stream",
     "text": [
      "<class 'pandas.core.frame.DataFrame'>\n",
      "RangeIndex: 18 entries, 0 to 17\n",
      "Data columns (total 4 columns):\n",
      " #   Column              Non-Null Count  Dtype \n",
      "---  ------              --------------  ----- \n",
      " 0   Year                18 non-null     int64 \n",
      " 1   Male                14 non-null     object\n",
      " 2   Female              14 non-null     object\n",
      " 3   Total_Voted_Gender  14 non-null     object\n",
      "dtypes: int64(1), object(3)\n",
      "memory usage: 704.0+ bytes\n"
     ]
    }
   ],
   "source": [
    "# FILL-IN 3\n",
    "gender.info()"
   ]
  },
  {
   "cell_type": "code",
   "execution_count": 6,
   "metadata": {},
   "outputs": [
    {
     "name": "stdout",
     "output_type": "stream",
     "text": [
      "Number of missing values:\n",
      "Year:0\n",
      "Male:4\n",
      "Female:4\n",
      "Total_Voted_Gender:4\n"
     ]
    }
   ],
   "source": [
    "#we can also find the missing values using isna()\n",
    "print('Number of missing values:')\n",
    "for col in gender.columns:\n",
    "    n_MV = sum(gender[col].isna())\n",
    "    print('{}:{}'.format(col,n_MV))"
   ]
  },
  {
   "cell_type": "markdown",
   "metadata": {},
   "source": [
    "**(5)** Perform Level 1 data cleaing on the *voting* dataframe.  \n",
    "Make sure that any missing values are coverted to NaN.\n",
    "Add comments that identify the aspect of Level 1 that a line or lines of code fixes."
   ]
  },
  {
   "cell_type": "code",
   "execution_count": 7,
   "metadata": {},
   "outputs": [],
   "source": [
    "# FILL-IN 6\n",
    "# dataframe has the default unique index already\n",
    "# rename columns to make them codable and keep intuitive\n",
    "# Not reindexing to year column as I don't see a good reason to do it here\n",
    "voting.columns = ['Year', 'Voted_18_24', 'Registered_18_24', 'Voted_25_44',\n",
    "       'Registered_25_44', 'Voted_45_64', 'Registered_45_64',\n",
    "       'Voted_65_and_over', 'Registered_65_and_over', 'Total_Voted',\n",
    "       'Total_Registered']\n",
    "#convert/replace '?' to NaN\n",
    "voting.replace('?', np.NaN,inplace=True)"
   ]
  },
  {
   "cell_type": "markdown",
   "metadata": {},
   "source": [
    "**(6)** *voting* contains 18 observations and 11 variables. The variables break apart the voting data into age groups that were registered to vote and the number that actually voted. The variables' data is numerical, but there may be missing values.\n",
    "\n",
    "Use a pandas function that would allow you to verify this information about the *voting* data frame."
   ]
  },
  {
   "cell_type": "code",
   "execution_count": 8,
   "metadata": {},
   "outputs": [
    {
     "name": "stdout",
     "output_type": "stream",
     "text": [
      "<class 'pandas.core.frame.DataFrame'>\n",
      "RangeIndex: 18 entries, 0 to 17\n",
      "Data columns (total 11 columns):\n",
      " #   Column                  Non-Null Count  Dtype \n",
      "---  ------                  --------------  ----- \n",
      " 0   Year                    18 non-null     int64 \n",
      " 1   Voted_18_24             15 non-null     object\n",
      " 2   Registered_18_24        15 non-null     object\n",
      " 3   Voted_25_44             15 non-null     object\n",
      " 4   Registered_25_44        15 non-null     object\n",
      " 5   Voted_45_64             15 non-null     object\n",
      " 6   Registered_45_64        15 non-null     object\n",
      " 7   Voted_65_and_over       15 non-null     object\n",
      " 8   Registered_65_and_over  15 non-null     object\n",
      " 9   Total_Voted             15 non-null     object\n",
      " 10  Total_Registered        15 non-null     object\n",
      "dtypes: int64(1), object(10)\n",
      "memory usage: 1.7+ KB\n"
     ]
    }
   ],
   "source": [
    "# FILL-IN 5\n",
    "voting.info()"
   ]
  },
  {
   "cell_type": "code",
   "execution_count": 9,
   "metadata": {},
   "outputs": [
    {
     "name": "stdout",
     "output_type": "stream",
     "text": [
      "Number of missing values:\n",
      "Year:0\n",
      "Voted_18_24:3\n",
      "Registered_18_24:3\n",
      "Voted_25_44:3\n",
      "Registered_25_44:3\n",
      "Voted_45_64:3\n",
      "Registered_45_64:3\n",
      "Voted_65_and_over:3\n",
      "Registered_65_and_over:3\n",
      "Total_Voted:3\n",
      "Total_Registered:3\n"
     ]
    }
   ],
   "source": [
    "#we can also find the missing values using isna()\n",
    "print('Number of missing values:')\n",
    "for col in voting.columns:\n",
    "    n_MV = sum(voting[col].isna())\n",
    "    print('{}:{}'.format(col,n_MV))"
   ]
  },
  {
   "cell_type": "markdown",
   "metadata": {},
   "source": [
    "## Combine two DataFrames\n",
    "\n",
    "__(7)__ Use the Pandas function *merge* to combine the DataFrames 'voting' and 'gender' on the 'Year' column into a single new DataFrame named `votes_df`."
   ]
  },
  {
   "cell_type": "code",
   "execution_count": 18,
   "metadata": {},
   "outputs": [
    {
     "data": {
      "text/html": [
       "<div>\n",
       "<style scoped>\n",
       "    .dataframe tbody tr th:only-of-type {\n",
       "        vertical-align: middle;\n",
       "    }\n",
       "\n",
       "    .dataframe tbody tr th {\n",
       "        vertical-align: top;\n",
       "    }\n",
       "\n",
       "    .dataframe thead th {\n",
       "        text-align: right;\n",
       "    }\n",
       "</style>\n",
       "<table border=\"1\" class=\"dataframe\">\n",
       "  <thead>\n",
       "    <tr style=\"text-align: right;\">\n",
       "      <th></th>\n",
       "      <th>Year</th>\n",
       "      <th>Voted_18_24</th>\n",
       "      <th>Registered_18_24</th>\n",
       "      <th>Voted_25_44</th>\n",
       "      <th>Registered_25_44</th>\n",
       "      <th>Voted_45_64</th>\n",
       "      <th>Registered_45_64</th>\n",
       "      <th>Voted_65_and_over</th>\n",
       "      <th>Registered_65_and_over</th>\n",
       "      <th>Total_Voted</th>\n",
       "      <th>Total_Registered</th>\n",
       "      <th>Male</th>\n",
       "      <th>Female</th>\n",
       "      <th>Total_Voted_Gender</th>\n",
       "    </tr>\n",
       "  </thead>\n",
       "  <tbody>\n",
       "    <tr>\n",
       "      <th>0</th>\n",
       "      <td>1980</td>\n",
       "      <td>NaN</td>\n",
       "      <td>NaN</td>\n",
       "      <td>NaN</td>\n",
       "      <td>NaN</td>\n",
       "      <td>NaN</td>\n",
       "      <td>NaN</td>\n",
       "      <td>NaN</td>\n",
       "      <td>NaN</td>\n",
       "      <td>NaN</td>\n",
       "      <td>NaN</td>\n",
       "      <td>43753000</td>\n",
       "      <td>49312000</td>\n",
       "      <td>93065000</td>\n",
       "    </tr>\n",
       "    <tr>\n",
       "      <th>1</th>\n",
       "      <td>1982</td>\n",
       "      <td>7139000</td>\n",
       "      <td>12227000</td>\n",
       "      <td>30343000</td>\n",
       "      <td>41103000</td>\n",
       "      <td>27491000</td>\n",
       "      <td>33422000</td>\n",
       "      <td>15336000</td>\n",
       "      <td>19245000</td>\n",
       "      <td>80309000</td>\n",
       "      <td>105997000</td>\n",
       "      <td>38025000</td>\n",
       "      <td>42285000</td>\n",
       "      <td>80309000</td>\n",
       "    </tr>\n",
       "    <tr>\n",
       "      <th>2</th>\n",
       "      <td>1984</td>\n",
       "      <td>NaN</td>\n",
       "      <td>NaN</td>\n",
       "      <td>NaN</td>\n",
       "      <td>NaN</td>\n",
       "      <td>NaN</td>\n",
       "      <td>NaN</td>\n",
       "      <td>NaN</td>\n",
       "      <td>NaN</td>\n",
       "      <td>NaN</td>\n",
       "      <td>NaN</td>\n",
       "      <td>47354000</td>\n",
       "      <td>54524000</td>\n",
       "      <td>101878000</td>\n",
       "    </tr>\n",
       "    <tr>\n",
       "      <th>3</th>\n",
       "      <td>1986</td>\n",
       "      <td>5782000</td>\n",
       "      <td>11109000</td>\n",
       "      <td>31003000</td>\n",
       "      <td>45790000</td>\n",
       "      <td>26305000</td>\n",
       "      <td>33528000</td>\n",
       "      <td>16865000</td>\n",
       "      <td>21300000</td>\n",
       "      <td>79955000</td>\n",
       "      <td>111727000</td>\n",
       "      <td>37729000</td>\n",
       "      <td>42225000</td>\n",
       "      <td>79955000</td>\n",
       "    </tr>\n",
       "    <tr>\n",
       "      <th>4</th>\n",
       "      <td>1988</td>\n",
       "      <td>9254000</td>\n",
       "      <td>12321000</td>\n",
       "      <td>42018000</td>\n",
       "      <td>49066000</td>\n",
       "      <td>31134000</td>\n",
       "      <td>34622000</td>\n",
       "      <td>19818000</td>\n",
       "      <td>22580000</td>\n",
       "      <td>102224000</td>\n",
       "      <td>118589000</td>\n",
       "      <td>NaN</td>\n",
       "      <td>NaN</td>\n",
       "      <td>NaN</td>\n",
       "    </tr>\n",
       "  </tbody>\n",
       "</table>\n",
       "</div>"
      ],
      "text/plain": [
       "   Year Voted_18_24 Registered_18_24 Voted_25_44 Registered_25_44 Voted_45_64  \\\n",
       "0  1980         NaN              NaN         NaN              NaN         NaN   \n",
       "1  1982     7139000         12227000    30343000         41103000    27491000   \n",
       "2  1984         NaN              NaN         NaN              NaN         NaN   \n",
       "3  1986     5782000         11109000    31003000         45790000    26305000   \n",
       "4  1988     9254000         12321000    42018000         49066000    31134000   \n",
       "\n",
       "  Registered_45_64 Voted_65_and_over Registered_65_and_over Total_Voted  \\\n",
       "0              NaN               NaN                    NaN         NaN   \n",
       "1         33422000          15336000               19245000    80309000   \n",
       "2              NaN               NaN                    NaN         NaN   \n",
       "3         33528000          16865000               21300000    79955000   \n",
       "4         34622000          19818000               22580000   102224000   \n",
       "\n",
       "  Total_Registered      Male    Female Total_Voted_Gender  \n",
       "0              NaN  43753000  49312000           93065000  \n",
       "1        105997000  38025000  42285000           80309000  \n",
       "2              NaN  47354000  54524000          101878000  \n",
       "3        111727000  37729000  42225000           79955000  \n",
       "4        118589000       NaN       NaN                NaN  "
      ]
     },
     "execution_count": 18,
     "metadata": {},
     "output_type": "execute_result"
    }
   ],
   "source": [
    "# FILL-IN 7\n",
    "votes_df = voting.merge(gender, on = 'Year')\n",
    "votes_df.head()"
   ]
  },
  {
   "cell_type": "markdown",
   "metadata": {},
   "source": [
    "## Missing Values"
   ]
  },
  {
   "cell_type": "markdown",
   "metadata": {},
   "source": [
    "**(8)** How many rows __do not have__ missing values in the '18-24 Voted' column?"
   ]
  },
  {
   "cell_type": "code",
   "execution_count": 19,
   "metadata": {},
   "outputs": [
    {
     "name": "stdout",
     "output_type": "stream",
     "text": [
      "Number of rows with no missing values in 'Voted_18_24' column :\n",
      "num of rows=15\n"
     ]
    }
   ],
   "source": [
    "# FILL-IN 8\n",
    "print('Number of rows with no missing values in \\'Voted_18_24\\' column :')\n",
    "non_MV = sum(~votes_df['Voted_18_24'].isna())\n",
    "print('{}={}'.format('num of rows',non_MV))"
   ]
  },
  {
   "cell_type": "markdown",
   "metadata": {},
   "source": [
    "**(9)** Create a dataframe name `dropped_df` with all of the rows containing missing values dropped. "
   ]
  },
  {
   "cell_type": "code",
   "execution_count": 20,
   "metadata": {},
   "outputs": [
    {
     "data": {
      "text/html": [
       "<div>\n",
       "<style scoped>\n",
       "    .dataframe tbody tr th:only-of-type {\n",
       "        vertical-align: middle;\n",
       "    }\n",
       "\n",
       "    .dataframe tbody tr th {\n",
       "        vertical-align: top;\n",
       "    }\n",
       "\n",
       "    .dataframe thead th {\n",
       "        text-align: right;\n",
       "    }\n",
       "</style>\n",
       "<table border=\"1\" class=\"dataframe\">\n",
       "  <thead>\n",
       "    <tr style=\"text-align: right;\">\n",
       "      <th></th>\n",
       "      <th>Year</th>\n",
       "      <th>Voted_18_24</th>\n",
       "      <th>Registered_18_24</th>\n",
       "      <th>Voted_25_44</th>\n",
       "      <th>Registered_25_44</th>\n",
       "      <th>Voted_45_64</th>\n",
       "      <th>Registered_45_64</th>\n",
       "      <th>Voted_65_and_over</th>\n",
       "      <th>Registered_65_and_over</th>\n",
       "      <th>Total_Voted</th>\n",
       "      <th>Total_Registered</th>\n",
       "      <th>Male</th>\n",
       "      <th>Female</th>\n",
       "      <th>Total_Voted_Gender</th>\n",
       "    </tr>\n",
       "  </thead>\n",
       "  <tbody>\n",
       "    <tr>\n",
       "      <th>0</th>\n",
       "      <td>1982</td>\n",
       "      <td>7139000</td>\n",
       "      <td>12227000</td>\n",
       "      <td>30343000</td>\n",
       "      <td>41103000</td>\n",
       "      <td>27491000</td>\n",
       "      <td>33422000</td>\n",
       "      <td>15336000</td>\n",
       "      <td>19245000</td>\n",
       "      <td>80309000</td>\n",
       "      <td>105997000</td>\n",
       "      <td>38025000</td>\n",
       "      <td>42285000</td>\n",
       "      <td>80309000</td>\n",
       "    </tr>\n",
       "    <tr>\n",
       "      <th>1</th>\n",
       "      <td>1986</td>\n",
       "      <td>5782000</td>\n",
       "      <td>11109000</td>\n",
       "      <td>31003000</td>\n",
       "      <td>45790000</td>\n",
       "      <td>26305000</td>\n",
       "      <td>33528000</td>\n",
       "      <td>16865000</td>\n",
       "      <td>21300000</td>\n",
       "      <td>79955000</td>\n",
       "      <td>111727000</td>\n",
       "      <td>37729000</td>\n",
       "      <td>42225000</td>\n",
       "      <td>79955000</td>\n",
       "    </tr>\n",
       "    <tr>\n",
       "      <th>2</th>\n",
       "      <td>1990</td>\n",
       "      <td>5072000</td>\n",
       "      <td>9896000</td>\n",
       "      <td>32766000</td>\n",
       "      <td>47020000</td>\n",
       "      <td>26138000</td>\n",
       "      <td>33480000</td>\n",
       "      <td>18014000</td>\n",
       "      <td>22853000</td>\n",
       "      <td>81990000</td>\n",
       "      <td>113249000</td>\n",
       "      <td>38659000</td>\n",
       "      <td>43331000</td>\n",
       "      <td>81990000</td>\n",
       "    </tr>\n",
       "    <tr>\n",
       "      <th>3</th>\n",
       "      <td>1992</td>\n",
       "      <td>10442000</td>\n",
       "      <td>12787000</td>\n",
       "      <td>47388000</td>\n",
       "      <td>52725000</td>\n",
       "      <td>34399000</td>\n",
       "      <td>37016000</td>\n",
       "      <td>21637000</td>\n",
       "      <td>24049000</td>\n",
       "      <td>113866000</td>\n",
       "      <td>126577000</td>\n",
       "      <td>53312000</td>\n",
       "      <td>60554000</td>\n",
       "      <td>113866000</td>\n",
       "    </tr>\n",
       "    <tr>\n",
       "      <th>4</th>\n",
       "      <td>2002</td>\n",
       "      <td>4697000</td>\n",
       "      <td>10470000</td>\n",
       "      <td>28019000</td>\n",
       "      <td>45553000</td>\n",
       "      <td>35521000</td>\n",
       "      <td>46430000</td>\n",
       "      <td>20667000</td>\n",
       "      <td>25701000</td>\n",
       "      <td>88904000</td>\n",
       "      <td>128154000</td>\n",
       "      <td>41801000</td>\n",
       "      <td>47102000</td>\n",
       "      <td>88904000</td>\n",
       "    </tr>\n",
       "  </tbody>\n",
       "</table>\n",
       "</div>"
      ],
      "text/plain": [
       "   Year Voted_18_24 Registered_18_24 Voted_25_44 Registered_25_44 Voted_45_64  \\\n",
       "0  1982     7139000         12227000    30343000         41103000    27491000   \n",
       "1  1986     5782000         11109000    31003000         45790000    26305000   \n",
       "2  1990     5072000          9896000    32766000         47020000    26138000   \n",
       "3  1992    10442000         12787000    47388000         52725000    34399000   \n",
       "4  2002     4697000         10470000    28019000         45553000    35521000   \n",
       "\n",
       "  Registered_45_64 Voted_65_and_over Registered_65_and_over Total_Voted  \\\n",
       "0         33422000          15336000               19245000    80309000   \n",
       "1         33528000          16865000               21300000    79955000   \n",
       "2         33480000          18014000               22853000    81990000   \n",
       "3         37016000          21637000               24049000   113866000   \n",
       "4         46430000          20667000               25701000    88904000   \n",
       "\n",
       "  Total_Registered      Male    Female Total_Voted_Gender  \n",
       "0        105997000  38025000  42285000           80309000  \n",
       "1        111727000  37729000  42225000           79955000  \n",
       "2        113249000  38659000  43331000           81990000  \n",
       "3        126577000  53312000  60554000          113866000  \n",
       "4        128154000  41801000  47102000           88904000  "
      ]
     },
     "execution_count": 20,
     "metadata": {},
     "output_type": "execute_result"
    }
   ],
   "source": [
    "# FILL-IN 9\n",
    "#drop rows with missing (NaN) values and reset index\n",
    "dropped_df = votes_df.dropna().reset_index(drop=True)\n",
    "dropped_df.head()"
   ]
  },
  {
   "cell_type": "markdown",
   "metadata": {},
   "source": [
    "**(10)** How many values are in the '18-24 Voted' column in `dropped_df`?"
   ]
  },
  {
   "cell_type": "code",
   "execution_count": 21,
   "metadata": {},
   "outputs": [
    {
     "data": {
      "text/plain": [
       "11"
      ]
     },
     "execution_count": 21,
     "metadata": {},
     "output_type": "execute_result"
    }
   ],
   "source": [
    "# FILL-IN 10\n",
    "len(dropped_df.Voted_18_24)"
   ]
  },
  {
   "cell_type": "markdown",
   "metadata": {},
   "source": [
    "**(11)** Calculate the difference of the mean between the '18-24 Voted' column in the `votes_df` and `dropped_df` dataframes."
   ]
  },
  {
   "cell_type": "code",
   "execution_count": 22,
   "metadata": {},
   "outputs": [
    {
     "data": {
      "text/plain": [
       "280018.18181818165"
      ]
     },
     "execution_count": 22,
     "metadata": {},
     "output_type": "execute_result"
    }
   ],
   "source": [
    "# FILL-IN 11\n",
    "dropped_df['Voted_18_24'] = dropped_df['Voted_18_24'].astype(float)\n",
    "votes_df['Voted_18_24'] = votes_df['Voted_18_24'].astype(float)\n",
    "dropped_df['Voted_18_24'].mean() - votes_df['Voted_18_24'].mean()"
   ]
  },
  {
   "cell_type": "markdown",
   "metadata": {},
   "source": [
    "**(12)** Explain why the mean different after you drop all the missing rows from the dataframe. What are our options for dealing with these missing values?"
   ]
  },
  {
   "cell_type": "markdown",
   "metadata": {},
   "source": [
    "__# FILL-IN__ 12\n",
    "\n",
    "The mean is different because votes_df has 15 rows of values for the Voted_18_24 column(without NaN values) and we dropped all rows from dropped_df with NaN values and dropped_df has 11 rows with Voted_18_24 values. Both the values and count of values are different for the Voted_18_24 column bewteen the dropped_df and votes_df data frames.  \n",
    "\n",
    "The data is missing for all the other age groups as well for years 1980, 1984 and 2000. It appears that the data is missing mostly due to MCAR or MAR and simply wasn't available or not observed/collected for these years rather than being a MNAR. Pandas mean() also ignores the NaN values so keep as is probably a good option rather than imputing with a central tendency. I also run a t-test between votes_df with 15 non-null values and dropped_df with 11 non-null values and with the null hypothesis that there is no significant difference between them shows that p-value is 0.81 and my null hypothesis is true so keeping the missing values as is is acceptable."
   ]
  },
  {
   "cell_type": "code",
   "execution_count": 23,
   "metadata": {},
   "outputs": [
    {
     "data": {
      "text/plain": [
       "Ttest_indResult(statistic=-0.2359775426837131, pvalue=0.8154522955870269)"
      ]
     },
     "execution_count": 23,
     "metadata": {},
     "output_type": "execute_result"
    }
   ],
   "source": [
    "from scipy.stats import ttest_ind\n",
    "temp_votes_df = votes_df[~votes_df['Voted_18_24'].isna()]\n",
    "ttest_ind(temp_votes_df['Voted_18_24'],dropped_df['Voted_18_24'])"
   ]
  },
  {
   "cell_type": "markdown",
   "metadata": {},
   "source": [
    "The `votes_df` dataframe (the origin dataframe that has missing values) now contains two columns that represent the total number of people that voted during the year of the observation.\n",
    "\n",
    "We should compare those two columns representing the total number of votes to see if they to find out.\n",
    "\n",
    "**(13)** First create a DataFrame named `comp_df` with just the columns for the year and the two columns that have the total number of votes."
   ]
  },
  {
   "cell_type": "code",
   "execution_count": 24,
   "metadata": {},
   "outputs": [
    {
     "data": {
      "text/html": [
       "<div>\n",
       "<style scoped>\n",
       "    .dataframe tbody tr th:only-of-type {\n",
       "        vertical-align: middle;\n",
       "    }\n",
       "\n",
       "    .dataframe tbody tr th {\n",
       "        vertical-align: top;\n",
       "    }\n",
       "\n",
       "    .dataframe thead th {\n",
       "        text-align: right;\n",
       "    }\n",
       "</style>\n",
       "<table border=\"1\" class=\"dataframe\">\n",
       "  <thead>\n",
       "    <tr style=\"text-align: right;\">\n",
       "      <th></th>\n",
       "      <th>Year</th>\n",
       "      <th>Total_Voted</th>\n",
       "      <th>Total_Voted_Gender</th>\n",
       "    </tr>\n",
       "  </thead>\n",
       "  <tbody>\n",
       "    <tr>\n",
       "      <th>0</th>\n",
       "      <td>1980</td>\n",
       "      <td>NaN</td>\n",
       "      <td>93065000</td>\n",
       "    </tr>\n",
       "    <tr>\n",
       "      <th>1</th>\n",
       "      <td>1982</td>\n",
       "      <td>80309000</td>\n",
       "      <td>80309000</td>\n",
       "    </tr>\n",
       "    <tr>\n",
       "      <th>2</th>\n",
       "      <td>1984</td>\n",
       "      <td>NaN</td>\n",
       "      <td>101878000</td>\n",
       "    </tr>\n",
       "    <tr>\n",
       "      <th>3</th>\n",
       "      <td>1986</td>\n",
       "      <td>79955000</td>\n",
       "      <td>79955000</td>\n",
       "    </tr>\n",
       "    <tr>\n",
       "      <th>4</th>\n",
       "      <td>1988</td>\n",
       "      <td>102224000</td>\n",
       "      <td>NaN</td>\n",
       "    </tr>\n",
       "  </tbody>\n",
       "</table>\n",
       "</div>"
      ],
      "text/plain": [
       "   Year Total_Voted Total_Voted_Gender\n",
       "0  1980         NaN           93065000\n",
       "1  1982    80309000           80309000\n",
       "2  1984         NaN          101878000\n",
       "3  1986    79955000           79955000\n",
       "4  1988   102224000                NaN"
      ]
     },
     "execution_count": 24,
     "metadata": {},
     "output_type": "execute_result"
    }
   ],
   "source": [
    "# FILL-IN 13\n",
    "comp_df = votes_df[['Year','Total_Voted','Total_Voted_Gender']]\n",
    "comp_df.head()"
   ]
  },
  {
   "cell_type": "markdown",
   "metadata": {},
   "source": [
    "**(14)** We want know if the non-missing values in both columns are equal. So now remove all of the rows with missing values from the `comp_df` dataframe."
   ]
  },
  {
   "cell_type": "code",
   "execution_count": 25,
   "metadata": {},
   "outputs": [
    {
     "data": {
      "text/html": [
       "<div>\n",
       "<style scoped>\n",
       "    .dataframe tbody tr th:only-of-type {\n",
       "        vertical-align: middle;\n",
       "    }\n",
       "\n",
       "    .dataframe tbody tr th {\n",
       "        vertical-align: top;\n",
       "    }\n",
       "\n",
       "    .dataframe thead th {\n",
       "        text-align: right;\n",
       "    }\n",
       "</style>\n",
       "<table border=\"1\" class=\"dataframe\">\n",
       "  <thead>\n",
       "    <tr style=\"text-align: right;\">\n",
       "      <th></th>\n",
       "      <th>Year</th>\n",
       "      <th>Total_Voted</th>\n",
       "      <th>Total_Voted_Gender</th>\n",
       "    </tr>\n",
       "  </thead>\n",
       "  <tbody>\n",
       "    <tr>\n",
       "      <th>0</th>\n",
       "      <td>1982</td>\n",
       "      <td>80309000</td>\n",
       "      <td>80309000</td>\n",
       "    </tr>\n",
       "    <tr>\n",
       "      <th>1</th>\n",
       "      <td>1986</td>\n",
       "      <td>79955000</td>\n",
       "      <td>79955000</td>\n",
       "    </tr>\n",
       "    <tr>\n",
       "      <th>2</th>\n",
       "      <td>1990</td>\n",
       "      <td>81990000</td>\n",
       "      <td>81990000</td>\n",
       "    </tr>\n",
       "    <tr>\n",
       "      <th>3</th>\n",
       "      <td>1992</td>\n",
       "      <td>113866000</td>\n",
       "      <td>113866000</td>\n",
       "    </tr>\n",
       "    <tr>\n",
       "      <th>4</th>\n",
       "      <td>2002</td>\n",
       "      <td>88904000</td>\n",
       "      <td>88904000</td>\n",
       "    </tr>\n",
       "  </tbody>\n",
       "</table>\n",
       "</div>"
      ],
      "text/plain": [
       "   Year Total_Voted Total_Voted_Gender\n",
       "0  1982    80309000           80309000\n",
       "1  1986    79955000           79955000\n",
       "2  1990    81990000           81990000\n",
       "3  1992   113866000          113866000\n",
       "4  2002    88904000           88904000"
      ]
     },
     "execution_count": 25,
     "metadata": {},
     "output_type": "execute_result"
    }
   ],
   "source": [
    "# FILL-IN 14\n",
    "comp_df = comp_df.dropna().reset_index(drop=True)\n",
    "comp_df.head()"
   ]
  },
  {
   "cell_type": "markdown",
   "metadata": {},
   "source": [
    "**(15)** Now write code that compares the values in the two columns to see if they contain the same values. "
   ]
  },
  {
   "cell_type": "code",
   "execution_count": 26,
   "metadata": {},
   "outputs": [
    {
     "data": {
      "text/plain": [
       "True"
      ]
     },
     "execution_count": 26,
     "metadata": {},
     "output_type": "execute_result"
    }
   ],
   "source": [
    "# FILL-IN 15\n",
    "comp_df.Total_Voted.equals(comp_df.Total_Voted_Gender)"
   ]
  },
  {
   "cell_type": "markdown",
   "metadata": {},
   "source": [
    "Now that we know that the two columns have the same values stored for each year where, then it seems safe to fill the missing values in one with the values from the other column.\n",
    "\n",
    "**(16)** Create a new column named 'Total_Voted' in `votes_df` and save into it all of the values for the total number of votes by using the values from both columns to create a column with no missing values. (Hint: This can be completed in one line using the pandas function *fillna*.)"
   ]
  },
  {
   "cell_type": "code",
   "execution_count": 29,
   "metadata": {
    "scrolled": true
   },
   "outputs": [
    {
     "data": {
      "text/plain": [
       "0      93065000\n",
       "1      80309000\n",
       "2     101878000\n",
       "3      79955000\n",
       "4     102224000\n",
       "5      81990000\n",
       "6     113866000\n",
       "7      85703000\n",
       "8     105018000\n",
       "9      83098000\n",
       "10    110826000\n",
       "11     88904000\n",
       "12    125736000\n",
       "13     96119000\n",
       "14    131144000\n",
       "15     95987000\n",
       "16    132949000\n",
       "17     92251000\n",
       "Name: Total_Voted, dtype: object"
      ]
     },
     "execution_count": 29,
     "metadata": {},
     "output_type": "execute_result"
    }
   ],
   "source": [
    "# FILL-IN 16\n",
    "votes_df[\"Total_Voted\"].fillna(votes_df[\"Total_Voted_Gender\"], inplace = True)\n",
    "votes_df.Total_Voted"
   ]
  },
  {
   "cell_type": "markdown",
   "metadata": {},
   "source": [
    "**(17)** Now that we have the total number of votes stored in the 'Total_Voted' column, we don't really need the original columns. Remove the old total voted columns from `votes_df`."
   ]
  },
  {
   "cell_type": "code",
   "execution_count": 30,
   "metadata": {},
   "outputs": [
    {
     "data": {
      "text/html": [
       "<div>\n",
       "<style scoped>\n",
       "    .dataframe tbody tr th:only-of-type {\n",
       "        vertical-align: middle;\n",
       "    }\n",
       "\n",
       "    .dataframe tbody tr th {\n",
       "        vertical-align: top;\n",
       "    }\n",
       "\n",
       "    .dataframe thead th {\n",
       "        text-align: right;\n",
       "    }\n",
       "</style>\n",
       "<table border=\"1\" class=\"dataframe\">\n",
       "  <thead>\n",
       "    <tr style=\"text-align: right;\">\n",
       "      <th></th>\n",
       "      <th>Year</th>\n",
       "      <th>Voted_18_24</th>\n",
       "      <th>Registered_18_24</th>\n",
       "      <th>Voted_25_44</th>\n",
       "      <th>Registered_25_44</th>\n",
       "      <th>Voted_45_64</th>\n",
       "      <th>Registered_45_64</th>\n",
       "      <th>Voted_65_and_over</th>\n",
       "      <th>Registered_65_and_over</th>\n",
       "      <th>Total_Voted</th>\n",
       "      <th>Total_Registered</th>\n",
       "      <th>Male</th>\n",
       "      <th>Female</th>\n",
       "    </tr>\n",
       "  </thead>\n",
       "  <tbody>\n",
       "    <tr>\n",
       "      <th>0</th>\n",
       "      <td>1980</td>\n",
       "      <td>NaN</td>\n",
       "      <td>NaN</td>\n",
       "      <td>NaN</td>\n",
       "      <td>NaN</td>\n",
       "      <td>NaN</td>\n",
       "      <td>NaN</td>\n",
       "      <td>NaN</td>\n",
       "      <td>NaN</td>\n",
       "      <td>93065000</td>\n",
       "      <td>NaN</td>\n",
       "      <td>43753000</td>\n",
       "      <td>49312000</td>\n",
       "    </tr>\n",
       "    <tr>\n",
       "      <th>1</th>\n",
       "      <td>1982</td>\n",
       "      <td>7139000.0</td>\n",
       "      <td>12227000</td>\n",
       "      <td>30343000</td>\n",
       "      <td>41103000</td>\n",
       "      <td>27491000</td>\n",
       "      <td>33422000</td>\n",
       "      <td>15336000</td>\n",
       "      <td>19245000</td>\n",
       "      <td>80309000</td>\n",
       "      <td>105997000</td>\n",
       "      <td>38025000</td>\n",
       "      <td>42285000</td>\n",
       "    </tr>\n",
       "  </tbody>\n",
       "</table>\n",
       "</div>"
      ],
      "text/plain": [
       "   Year  Voted_18_24 Registered_18_24 Voted_25_44 Registered_25_44  \\\n",
       "0  1980          NaN              NaN         NaN              NaN   \n",
       "1  1982    7139000.0         12227000    30343000         41103000   \n",
       "\n",
       "  Voted_45_64 Registered_45_64 Voted_65_and_over Registered_65_and_over  \\\n",
       "0         NaN              NaN               NaN                    NaN   \n",
       "1    27491000         33422000          15336000               19245000   \n",
       "\n",
       "  Total_Voted Total_Registered      Male    Female  \n",
       "0    93065000              NaN  43753000  49312000  \n",
       "1    80309000        105997000  38025000  42285000  "
      ]
     },
     "execution_count": 30,
     "metadata": {},
     "output_type": "execute_result"
    }
   ],
   "source": [
    "# FILL-IN 17\n",
    "votes_df.drop(['Total_Voted_Gender'], axis=1, inplace=True)\n",
    "votes_df.head(2)"
   ]
  },
  {
   "cell_type": "markdown",
   "metadata": {},
   "source": [
    "Raw-numbers don't often tell the story in the most effective manner. We will calculate the percentage for the demographics we are interested in."
   ]
  },
  {
   "cell_type": "markdown",
   "metadata": {},
   "source": [
    "**(18)** Create a columns called 'Female_Percent' and 'Male_Percent' that contains the percentage of the total number that voted that identified by the respective gender."
   ]
  },
  {
   "cell_type": "code",
   "execution_count": 31,
   "metadata": {},
   "outputs": [
    {
     "data": {
      "text/html": [
       "<div>\n",
       "<style scoped>\n",
       "    .dataframe tbody tr th:only-of-type {\n",
       "        vertical-align: middle;\n",
       "    }\n",
       "\n",
       "    .dataframe tbody tr th {\n",
       "        vertical-align: top;\n",
       "    }\n",
       "\n",
       "    .dataframe thead th {\n",
       "        text-align: right;\n",
       "    }\n",
       "</style>\n",
       "<table border=\"1\" class=\"dataframe\">\n",
       "  <thead>\n",
       "    <tr style=\"text-align: right;\">\n",
       "      <th></th>\n",
       "      <th>Year</th>\n",
       "      <th>Voted_18_24</th>\n",
       "      <th>Registered_18_24</th>\n",
       "      <th>Voted_25_44</th>\n",
       "      <th>Registered_25_44</th>\n",
       "      <th>Voted_45_64</th>\n",
       "      <th>Registered_45_64</th>\n",
       "      <th>Voted_65_and_over</th>\n",
       "      <th>Registered_65_and_over</th>\n",
       "      <th>Total_Voted</th>\n",
       "      <th>Total_Registered</th>\n",
       "      <th>Male</th>\n",
       "      <th>Female</th>\n",
       "      <th>Female_Percent</th>\n",
       "      <th>Male_Percent</th>\n",
       "    </tr>\n",
       "  </thead>\n",
       "  <tbody>\n",
       "    <tr>\n",
       "      <th>0</th>\n",
       "      <td>1980</td>\n",
       "      <td>NaN</td>\n",
       "      <td>NaN</td>\n",
       "      <td>NaN</td>\n",
       "      <td>NaN</td>\n",
       "      <td>NaN</td>\n",
       "      <td>NaN</td>\n",
       "      <td>NaN</td>\n",
       "      <td>NaN</td>\n",
       "      <td>93065000.0</td>\n",
       "      <td>NaN</td>\n",
       "      <td>43753000.0</td>\n",
       "      <td>49312000.0</td>\n",
       "      <td>52.99</td>\n",
       "      <td>47.01</td>\n",
       "    </tr>\n",
       "    <tr>\n",
       "      <th>1</th>\n",
       "      <td>1982</td>\n",
       "      <td>7139000.0</td>\n",
       "      <td>12227000.0</td>\n",
       "      <td>30343000.0</td>\n",
       "      <td>41103000.0</td>\n",
       "      <td>27491000.0</td>\n",
       "      <td>33422000.0</td>\n",
       "      <td>15336000.0</td>\n",
       "      <td>19245000.0</td>\n",
       "      <td>80309000.0</td>\n",
       "      <td>105997000.0</td>\n",
       "      <td>38025000.0</td>\n",
       "      <td>42285000.0</td>\n",
       "      <td>52.65</td>\n",
       "      <td>47.35</td>\n",
       "    </tr>\n",
       "    <tr>\n",
       "      <th>2</th>\n",
       "      <td>1984</td>\n",
       "      <td>NaN</td>\n",
       "      <td>NaN</td>\n",
       "      <td>NaN</td>\n",
       "      <td>NaN</td>\n",
       "      <td>NaN</td>\n",
       "      <td>NaN</td>\n",
       "      <td>NaN</td>\n",
       "      <td>NaN</td>\n",
       "      <td>101878000.0</td>\n",
       "      <td>NaN</td>\n",
       "      <td>47354000.0</td>\n",
       "      <td>54524000.0</td>\n",
       "      <td>53.52</td>\n",
       "      <td>46.48</td>\n",
       "    </tr>\n",
       "    <tr>\n",
       "      <th>3</th>\n",
       "      <td>1986</td>\n",
       "      <td>5782000.0</td>\n",
       "      <td>11109000.0</td>\n",
       "      <td>31003000.0</td>\n",
       "      <td>45790000.0</td>\n",
       "      <td>26305000.0</td>\n",
       "      <td>33528000.0</td>\n",
       "      <td>16865000.0</td>\n",
       "      <td>21300000.0</td>\n",
       "      <td>79955000.0</td>\n",
       "      <td>111727000.0</td>\n",
       "      <td>37729000.0</td>\n",
       "      <td>42225000.0</td>\n",
       "      <td>52.81</td>\n",
       "      <td>47.19</td>\n",
       "    </tr>\n",
       "    <tr>\n",
       "      <th>4</th>\n",
       "      <td>1988</td>\n",
       "      <td>9254000.0</td>\n",
       "      <td>12321000.0</td>\n",
       "      <td>42018000.0</td>\n",
       "      <td>49066000.0</td>\n",
       "      <td>31134000.0</td>\n",
       "      <td>34622000.0</td>\n",
       "      <td>19818000.0</td>\n",
       "      <td>22580000.0</td>\n",
       "      <td>102224000.0</td>\n",
       "      <td>118589000.0</td>\n",
       "      <td>NaN</td>\n",
       "      <td>NaN</td>\n",
       "      <td>NaN</td>\n",
       "      <td>NaN</td>\n",
       "    </tr>\n",
       "  </tbody>\n",
       "</table>\n",
       "</div>"
      ],
      "text/plain": [
       "   Year  Voted_18_24  Registered_18_24  Voted_25_44  Registered_25_44  \\\n",
       "0  1980          NaN               NaN          NaN               NaN   \n",
       "1  1982    7139000.0        12227000.0   30343000.0        41103000.0   \n",
       "2  1984          NaN               NaN          NaN               NaN   \n",
       "3  1986    5782000.0        11109000.0   31003000.0        45790000.0   \n",
       "4  1988    9254000.0        12321000.0   42018000.0        49066000.0   \n",
       "\n",
       "   Voted_45_64  Registered_45_64  Voted_65_and_over  Registered_65_and_over  \\\n",
       "0          NaN               NaN                NaN                     NaN   \n",
       "1   27491000.0        33422000.0         15336000.0              19245000.0   \n",
       "2          NaN               NaN                NaN                     NaN   \n",
       "3   26305000.0        33528000.0         16865000.0              21300000.0   \n",
       "4   31134000.0        34622000.0         19818000.0              22580000.0   \n",
       "\n",
       "   Total_Voted  Total_Registered        Male      Female  Female_Percent  \\\n",
       "0   93065000.0               NaN  43753000.0  49312000.0           52.99   \n",
       "1   80309000.0       105997000.0  38025000.0  42285000.0           52.65   \n",
       "2  101878000.0               NaN  47354000.0  54524000.0           53.52   \n",
       "3   79955000.0       111727000.0  37729000.0  42225000.0           52.81   \n",
       "4  102224000.0       118589000.0         NaN         NaN             NaN   \n",
       "\n",
       "   Male_Percent  \n",
       "0         47.01  \n",
       "1         47.35  \n",
       "2         46.48  \n",
       "3         47.19  \n",
       "4           NaN  "
      ]
     },
     "execution_count": 31,
     "metadata": {},
     "output_type": "execute_result"
    }
   ],
   "source": [
    "# FILL-IN 18\n",
    "#convert all values except Year to float\n",
    "for c in votes_df.columns:\n",
    "    if( c != 'Year'):\n",
    "        votes_df[c] = votes_df[c].astype(float)\n",
    "#calculate the percentages and round to two decimal points    \n",
    "votes_df['Female_Percent'] = round((votes_df.Female/votes_df.Total_Voted)*100,2)\n",
    "votes_df['Male_Percent'] = round((votes_df.Male/votes_df.Total_Voted)*100,2)\n",
    "votes_df.head()"
   ]
  },
  {
   "cell_type": "markdown",
   "metadata": {},
   "source": [
    "__(19)__ Create columns for each age group that contains the percent of people in that group that voted out of the number registered in that group (for example, the percentage of 18-24 year-olds that voted out of the number of 18-24 year-olds that registered)."
   ]
  },
  {
   "cell_type": "code",
   "execution_count": 33,
   "metadata": {
    "scrolled": true
   },
   "outputs": [
    {
     "data": {
      "text/html": [
       "<div>\n",
       "<style scoped>\n",
       "    .dataframe tbody tr th:only-of-type {\n",
       "        vertical-align: middle;\n",
       "    }\n",
       "\n",
       "    .dataframe tbody tr th {\n",
       "        vertical-align: top;\n",
       "    }\n",
       "\n",
       "    .dataframe thead th {\n",
       "        text-align: right;\n",
       "    }\n",
       "</style>\n",
       "<table border=\"1\" class=\"dataframe\">\n",
       "  <thead>\n",
       "    <tr style=\"text-align: right;\">\n",
       "      <th></th>\n",
       "      <th>Year</th>\n",
       "      <th>Voted_18_24</th>\n",
       "      <th>Registered_18_24</th>\n",
       "      <th>Voted_25_44</th>\n",
       "      <th>Registered_25_44</th>\n",
       "      <th>Voted_45_64</th>\n",
       "      <th>Registered_45_64</th>\n",
       "      <th>Voted_65_and_over</th>\n",
       "      <th>Registered_65_and_over</th>\n",
       "      <th>Total_Voted</th>\n",
       "      <th>Total_Registered</th>\n",
       "      <th>Male</th>\n",
       "      <th>Female</th>\n",
       "      <th>Female_Percent</th>\n",
       "      <th>Male_Percent</th>\n",
       "      <th>Percent_V_to_R_18_24</th>\n",
       "      <th>Percent_V_to_R_25_44</th>\n",
       "      <th>Percent_V_to_R_45_64</th>\n",
       "      <th>Percent_V_to_R_65_and_over</th>\n",
       "    </tr>\n",
       "  </thead>\n",
       "  <tbody>\n",
       "    <tr>\n",
       "      <th>0</th>\n",
       "      <td>1980</td>\n",
       "      <td>NaN</td>\n",
       "      <td>NaN</td>\n",
       "      <td>NaN</td>\n",
       "      <td>NaN</td>\n",
       "      <td>NaN</td>\n",
       "      <td>NaN</td>\n",
       "      <td>NaN</td>\n",
       "      <td>NaN</td>\n",
       "      <td>93065000.0</td>\n",
       "      <td>NaN</td>\n",
       "      <td>43753000.0</td>\n",
       "      <td>49312000.0</td>\n",
       "      <td>52.99</td>\n",
       "      <td>47.01</td>\n",
       "      <td>NaN</td>\n",
       "      <td>NaN</td>\n",
       "      <td>NaN</td>\n",
       "      <td>NaN</td>\n",
       "    </tr>\n",
       "    <tr>\n",
       "      <th>1</th>\n",
       "      <td>1982</td>\n",
       "      <td>7139000.0</td>\n",
       "      <td>12227000.0</td>\n",
       "      <td>30343000.0</td>\n",
       "      <td>41103000.0</td>\n",
       "      <td>27491000.0</td>\n",
       "      <td>33422000.0</td>\n",
       "      <td>15336000.0</td>\n",
       "      <td>19245000.0</td>\n",
       "      <td>80309000.0</td>\n",
       "      <td>105997000.0</td>\n",
       "      <td>38025000.0</td>\n",
       "      <td>42285000.0</td>\n",
       "      <td>52.65</td>\n",
       "      <td>47.35</td>\n",
       "      <td>58.39</td>\n",
       "      <td>73.82</td>\n",
       "      <td>82.25</td>\n",
       "      <td>79.69</td>\n",
       "    </tr>\n",
       "    <tr>\n",
       "      <th>2</th>\n",
       "      <td>1984</td>\n",
       "      <td>NaN</td>\n",
       "      <td>NaN</td>\n",
       "      <td>NaN</td>\n",
       "      <td>NaN</td>\n",
       "      <td>NaN</td>\n",
       "      <td>NaN</td>\n",
       "      <td>NaN</td>\n",
       "      <td>NaN</td>\n",
       "      <td>101878000.0</td>\n",
       "      <td>NaN</td>\n",
       "      <td>47354000.0</td>\n",
       "      <td>54524000.0</td>\n",
       "      <td>53.52</td>\n",
       "      <td>46.48</td>\n",
       "      <td>NaN</td>\n",
       "      <td>NaN</td>\n",
       "      <td>NaN</td>\n",
       "      <td>NaN</td>\n",
       "    </tr>\n",
       "    <tr>\n",
       "      <th>3</th>\n",
       "      <td>1986</td>\n",
       "      <td>5782000.0</td>\n",
       "      <td>11109000.0</td>\n",
       "      <td>31003000.0</td>\n",
       "      <td>45790000.0</td>\n",
       "      <td>26305000.0</td>\n",
       "      <td>33528000.0</td>\n",
       "      <td>16865000.0</td>\n",
       "      <td>21300000.0</td>\n",
       "      <td>79955000.0</td>\n",
       "      <td>111727000.0</td>\n",
       "      <td>37729000.0</td>\n",
       "      <td>42225000.0</td>\n",
       "      <td>52.81</td>\n",
       "      <td>47.19</td>\n",
       "      <td>52.05</td>\n",
       "      <td>67.71</td>\n",
       "      <td>78.46</td>\n",
       "      <td>79.18</td>\n",
       "    </tr>\n",
       "    <tr>\n",
       "      <th>4</th>\n",
       "      <td>1988</td>\n",
       "      <td>9254000.0</td>\n",
       "      <td>12321000.0</td>\n",
       "      <td>42018000.0</td>\n",
       "      <td>49066000.0</td>\n",
       "      <td>31134000.0</td>\n",
       "      <td>34622000.0</td>\n",
       "      <td>19818000.0</td>\n",
       "      <td>22580000.0</td>\n",
       "      <td>102224000.0</td>\n",
       "      <td>118589000.0</td>\n",
       "      <td>NaN</td>\n",
       "      <td>NaN</td>\n",
       "      <td>NaN</td>\n",
       "      <td>NaN</td>\n",
       "      <td>75.11</td>\n",
       "      <td>85.64</td>\n",
       "      <td>89.93</td>\n",
       "      <td>87.77</td>\n",
       "    </tr>\n",
       "  </tbody>\n",
       "</table>\n",
       "</div>"
      ],
      "text/plain": [
       "   Year  Voted_18_24  Registered_18_24  Voted_25_44  Registered_25_44  \\\n",
       "0  1980          NaN               NaN          NaN               NaN   \n",
       "1  1982    7139000.0        12227000.0   30343000.0        41103000.0   \n",
       "2  1984          NaN               NaN          NaN               NaN   \n",
       "3  1986    5782000.0        11109000.0   31003000.0        45790000.0   \n",
       "4  1988    9254000.0        12321000.0   42018000.0        49066000.0   \n",
       "\n",
       "   Voted_45_64  Registered_45_64  Voted_65_and_over  Registered_65_and_over  \\\n",
       "0          NaN               NaN                NaN                     NaN   \n",
       "1   27491000.0        33422000.0         15336000.0              19245000.0   \n",
       "2          NaN               NaN                NaN                     NaN   \n",
       "3   26305000.0        33528000.0         16865000.0              21300000.0   \n",
       "4   31134000.0        34622000.0         19818000.0              22580000.0   \n",
       "\n",
       "   Total_Voted  Total_Registered        Male      Female  Female_Percent  \\\n",
       "0   93065000.0               NaN  43753000.0  49312000.0           52.99   \n",
       "1   80309000.0       105997000.0  38025000.0  42285000.0           52.65   \n",
       "2  101878000.0               NaN  47354000.0  54524000.0           53.52   \n",
       "3   79955000.0       111727000.0  37729000.0  42225000.0           52.81   \n",
       "4  102224000.0       118589000.0         NaN         NaN             NaN   \n",
       "\n",
       "   Male_Percent  Percent_V_to_R_18_24  Percent_V_to_R_25_44  \\\n",
       "0         47.01                   NaN                   NaN   \n",
       "1         47.35                 58.39                 73.82   \n",
       "2         46.48                   NaN                   NaN   \n",
       "3         47.19                 52.05                 67.71   \n",
       "4           NaN                 75.11                 85.64   \n",
       "\n",
       "   Percent_V_to_R_45_64  Percent_V_to_R_65_and_over  \n",
       "0                   NaN                         NaN  \n",
       "1                 82.25                       79.69  \n",
       "2                   NaN                         NaN  \n",
       "3                 78.46                       79.18  \n",
       "4                 89.93                       87.77  "
      ]
     },
     "execution_count": 33,
     "metadata": {},
     "output_type": "execute_result"
    }
   ],
   "source": [
    "# FILL-IN 19\n",
    "#new columns added to the end of the columns prefixed by \"Percent_\"\n",
    "for i in range(1,len(votes_df.columns),2): #select Voted_ columns\n",
    "        c = votes_df.columns[i] #get the column name\n",
    "        if(votes_df.columns[i] == 'Total_Voted'): # exit loop if we processed the columns we want\n",
    "            break\n",
    "        #create the new column\n",
    "        votes_df['Percent_V_to_R_'+c[6:]] = round((votes_df[c]/votes_df['Registered_'+c[6:]])*100,2)\n",
    "votes_df.head()"
   ]
  },
  {
   "cell_type": "markdown",
   "metadata": {},
   "source": [
    "__(20)__ Create columns for each age group that has data that represents the percentage of the total votes that the age group accounts for."
   ]
  },
  {
   "cell_type": "code",
   "execution_count": 34,
   "metadata": {},
   "outputs": [
    {
     "data": {
      "text/html": [
       "<div>\n",
       "<style scoped>\n",
       "    .dataframe tbody tr th:only-of-type {\n",
       "        vertical-align: middle;\n",
       "    }\n",
       "\n",
       "    .dataframe tbody tr th {\n",
       "        vertical-align: top;\n",
       "    }\n",
       "\n",
       "    .dataframe thead th {\n",
       "        text-align: right;\n",
       "    }\n",
       "</style>\n",
       "<table border=\"1\" class=\"dataframe\">\n",
       "  <thead>\n",
       "    <tr style=\"text-align: right;\">\n",
       "      <th></th>\n",
       "      <th>Year</th>\n",
       "      <th>Voted_18_24</th>\n",
       "      <th>Registered_18_24</th>\n",
       "      <th>Voted_25_44</th>\n",
       "      <th>Registered_25_44</th>\n",
       "      <th>Voted_45_64</th>\n",
       "      <th>Registered_45_64</th>\n",
       "      <th>Voted_65_and_over</th>\n",
       "      <th>Registered_65_and_over</th>\n",
       "      <th>Total_Voted</th>\n",
       "      <th>...</th>\n",
       "      <th>Female_Percent</th>\n",
       "      <th>Male_Percent</th>\n",
       "      <th>Percent_V_to_R_18_24</th>\n",
       "      <th>Percent_V_to_R_25_44</th>\n",
       "      <th>Percent_V_to_R_45_64</th>\n",
       "      <th>Percent_V_to_R_65_and_over</th>\n",
       "      <th>Percent_Total_18_24</th>\n",
       "      <th>Percent_Total_25_44</th>\n",
       "      <th>Percent_Total_45_64</th>\n",
       "      <th>Percent_Total_65_and_over</th>\n",
       "    </tr>\n",
       "  </thead>\n",
       "  <tbody>\n",
       "    <tr>\n",
       "      <th>0</th>\n",
       "      <td>1980</td>\n",
       "      <td>NaN</td>\n",
       "      <td>NaN</td>\n",
       "      <td>NaN</td>\n",
       "      <td>NaN</td>\n",
       "      <td>NaN</td>\n",
       "      <td>NaN</td>\n",
       "      <td>NaN</td>\n",
       "      <td>NaN</td>\n",
       "      <td>93065000.0</td>\n",
       "      <td>...</td>\n",
       "      <td>52.99</td>\n",
       "      <td>47.01</td>\n",
       "      <td>NaN</td>\n",
       "      <td>NaN</td>\n",
       "      <td>NaN</td>\n",
       "      <td>NaN</td>\n",
       "      <td>NaN</td>\n",
       "      <td>NaN</td>\n",
       "      <td>NaN</td>\n",
       "      <td>NaN</td>\n",
       "    </tr>\n",
       "    <tr>\n",
       "      <th>1</th>\n",
       "      <td>1982</td>\n",
       "      <td>7139000.0</td>\n",
       "      <td>12227000.0</td>\n",
       "      <td>30343000.0</td>\n",
       "      <td>41103000.0</td>\n",
       "      <td>27491000.0</td>\n",
       "      <td>33422000.0</td>\n",
       "      <td>15336000.0</td>\n",
       "      <td>19245000.0</td>\n",
       "      <td>80309000.0</td>\n",
       "      <td>...</td>\n",
       "      <td>52.65</td>\n",
       "      <td>47.35</td>\n",
       "      <td>58.39</td>\n",
       "      <td>73.82</td>\n",
       "      <td>82.25</td>\n",
       "      <td>79.69</td>\n",
       "      <td>8.89</td>\n",
       "      <td>37.78</td>\n",
       "      <td>34.23</td>\n",
       "      <td>19.10</td>\n",
       "    </tr>\n",
       "    <tr>\n",
       "      <th>2</th>\n",
       "      <td>1984</td>\n",
       "      <td>NaN</td>\n",
       "      <td>NaN</td>\n",
       "      <td>NaN</td>\n",
       "      <td>NaN</td>\n",
       "      <td>NaN</td>\n",
       "      <td>NaN</td>\n",
       "      <td>NaN</td>\n",
       "      <td>NaN</td>\n",
       "      <td>101878000.0</td>\n",
       "      <td>...</td>\n",
       "      <td>53.52</td>\n",
       "      <td>46.48</td>\n",
       "      <td>NaN</td>\n",
       "      <td>NaN</td>\n",
       "      <td>NaN</td>\n",
       "      <td>NaN</td>\n",
       "      <td>NaN</td>\n",
       "      <td>NaN</td>\n",
       "      <td>NaN</td>\n",
       "      <td>NaN</td>\n",
       "    </tr>\n",
       "    <tr>\n",
       "      <th>3</th>\n",
       "      <td>1986</td>\n",
       "      <td>5782000.0</td>\n",
       "      <td>11109000.0</td>\n",
       "      <td>31003000.0</td>\n",
       "      <td>45790000.0</td>\n",
       "      <td>26305000.0</td>\n",
       "      <td>33528000.0</td>\n",
       "      <td>16865000.0</td>\n",
       "      <td>21300000.0</td>\n",
       "      <td>79955000.0</td>\n",
       "      <td>...</td>\n",
       "      <td>52.81</td>\n",
       "      <td>47.19</td>\n",
       "      <td>52.05</td>\n",
       "      <td>67.71</td>\n",
       "      <td>78.46</td>\n",
       "      <td>79.18</td>\n",
       "      <td>7.23</td>\n",
       "      <td>38.78</td>\n",
       "      <td>32.90</td>\n",
       "      <td>21.09</td>\n",
       "    </tr>\n",
       "    <tr>\n",
       "      <th>4</th>\n",
       "      <td>1988</td>\n",
       "      <td>9254000.0</td>\n",
       "      <td>12321000.0</td>\n",
       "      <td>42018000.0</td>\n",
       "      <td>49066000.0</td>\n",
       "      <td>31134000.0</td>\n",
       "      <td>34622000.0</td>\n",
       "      <td>19818000.0</td>\n",
       "      <td>22580000.0</td>\n",
       "      <td>102224000.0</td>\n",
       "      <td>...</td>\n",
       "      <td>NaN</td>\n",
       "      <td>NaN</td>\n",
       "      <td>75.11</td>\n",
       "      <td>85.64</td>\n",
       "      <td>89.93</td>\n",
       "      <td>87.77</td>\n",
       "      <td>9.05</td>\n",
       "      <td>41.10</td>\n",
       "      <td>30.46</td>\n",
       "      <td>19.39</td>\n",
       "    </tr>\n",
       "  </tbody>\n",
       "</table>\n",
       "<p>5 rows × 23 columns</p>\n",
       "</div>"
      ],
      "text/plain": [
       "   Year  Voted_18_24  Registered_18_24  Voted_25_44  Registered_25_44  \\\n",
       "0  1980          NaN               NaN          NaN               NaN   \n",
       "1  1982    7139000.0        12227000.0   30343000.0        41103000.0   \n",
       "2  1984          NaN               NaN          NaN               NaN   \n",
       "3  1986    5782000.0        11109000.0   31003000.0        45790000.0   \n",
       "4  1988    9254000.0        12321000.0   42018000.0        49066000.0   \n",
       "\n",
       "   Voted_45_64  Registered_45_64  Voted_65_and_over  Registered_65_and_over  \\\n",
       "0          NaN               NaN                NaN                     NaN   \n",
       "1   27491000.0        33422000.0         15336000.0              19245000.0   \n",
       "2          NaN               NaN                NaN                     NaN   \n",
       "3   26305000.0        33528000.0         16865000.0              21300000.0   \n",
       "4   31134000.0        34622000.0         19818000.0              22580000.0   \n",
       "\n",
       "   Total_Voted  ...  Female_Percent  Male_Percent  Percent_V_to_R_18_24  \\\n",
       "0   93065000.0  ...           52.99         47.01                   NaN   \n",
       "1   80309000.0  ...           52.65         47.35                 58.39   \n",
       "2  101878000.0  ...           53.52         46.48                   NaN   \n",
       "3   79955000.0  ...           52.81         47.19                 52.05   \n",
       "4  102224000.0  ...             NaN           NaN                 75.11   \n",
       "\n",
       "   Percent_V_to_R_25_44  Percent_V_to_R_45_64  Percent_V_to_R_65_and_over  \\\n",
       "0                   NaN                   NaN                         NaN   \n",
       "1                 73.82                 82.25                       79.69   \n",
       "2                   NaN                   NaN                         NaN   \n",
       "3                 67.71                 78.46                       79.18   \n",
       "4                 85.64                 89.93                       87.77   \n",
       "\n",
       "   Percent_Total_18_24  Percent_Total_25_44  Percent_Total_45_64  \\\n",
       "0                  NaN                  NaN                  NaN   \n",
       "1                 8.89                37.78                34.23   \n",
       "2                  NaN                  NaN                  NaN   \n",
       "3                 7.23                38.78                32.90   \n",
       "4                 9.05                41.10                30.46   \n",
       "\n",
       "   Percent_Total_65_and_over  \n",
       "0                        NaN  \n",
       "1                      19.10  \n",
       "2                        NaN  \n",
       "3                      21.09  \n",
       "4                      19.39  \n",
       "\n",
       "[5 rows x 23 columns]"
      ]
     },
     "execution_count": 34,
     "metadata": {},
     "output_type": "execute_result"
    }
   ],
   "source": [
    "# FILL-IN 20\n",
    "#new columns added to the end of the columns prefixed by \"Percent_\"\n",
    "for i in range(1,len(votes_df.columns),2):\n",
    "        c = votes_df.columns[i]\n",
    "        if(votes_df.columns[i] == 'Total_Voted'):\n",
    "            break\n",
    "        votes_df['Percent_Total_'+c[6:]] = round((votes_df[c]/votes_df.Total_Voted)*100,2)\n",
    "votes_df.head()"
   ]
  },
  {
   "cell_type": "markdown",
   "metadata": {},
   "source": [
    "Now let us visualize our data using matplotlib."
   ]
  },
  {
   "cell_type": "markdown",
   "metadata": {},
   "source": [
    "__(21)__ First, calculate the average percentage of women and the average percentage of men that voted during the 5 years from 2006 to 2014. (You should have 2 numbers, one for each gender)."
   ]
  },
  {
   "cell_type": "code",
   "execution_count": 35,
   "metadata": {},
   "outputs": [
    {
     "name": "stdout",
     "output_type": "stream",
     "text": [
      "ave_women_voted= 53.31%, ave_men_voted= 46.69%\n"
     ]
    }
   ],
   "source": [
    "# FILL-IN 21\n",
    "#votes_df.set_index(['Year'],inplace=True)\n",
    "BM = (votes_df.Year >= 2006) & (votes_df.Year <= 2014)\n",
    "ave_women_perc = round(votes_df[BM].Female_Percent.mean(),2)\n",
    "ave_men_perc = round(votes_df[BM].Male_Percent.mean(),2)\n",
    "print('ave_women_voted= {}%, ave_men_voted= {}%'.format(ave_women_perc,ave_men_perc))"
   ]
  },
  {
   "cell_type": "markdown",
   "metadata": {},
   "source": [
    "*There are 2 questions for the next cell because plotting commands must be in the same cell to work correctly in notebooks.*\n",
    "\n",
    "__(22)__ Create a pie chart that shows the gender of the voters for those 5 years with matplotlib.  \n",
    "\n",
    "The syntact for the pie function is:  \n",
    "\n",
    "<pre>plt.pie(list_of_values, labels=list_of_labels, autopct='%1.1f%%', startangle=90)</pre>\n",
    "Values you need to change:  \n",
    "* `list_of_values` is a list of the values that define the slices of the pie.  \n",
    "* `list_of_labels` is a list of the values that you want to use as labels for the slices.  \n",
    "\n",
    "Values you don't need to change\n",
    "* `autopct` adds the percentages text to the slices.  \n",
    "* `startangle` rotated the pie so that it is left/right oriented instead of top/bottom.  \n",
    "__(23)__ Add an appropriate title to the chart. \n"
   ]
  },
  {
   "cell_type": "code",
   "execution_count": 36,
   "metadata": {},
   "outputs": [
    {
     "data": {
      "image/png": "[encoded data removed]",
      "text/plain": [
       "<Figure size 432x288 with 1 Axes>"
      ]
     },
     "metadata": {},
     "output_type": "display_data"
    }
   ],
   "source": [
    "# FILL-IN 22\n",
    "# FILL-IN 23\n",
    "perc_list=[ave_women_perc,ave_men_perc]\n",
    "labels_list = ['female voters','male voters']\n",
    "plt.pie(perc_list, labels=labels_list, autopct='%1.1f%%', startangle=90)\n",
    "plt.title('Average Voters by gender (2006,2008,2010,2012,2014)')\n",
    "plt.show()"
   ]
  },
  {
   "cell_type": "markdown",
   "metadata": {},
   "source": [
    "*There are 2 questions for the next cell because plotting commands must be in the same cell to work correctly in notebooks.*\n",
    "\n",
    "__(24)__ Create a chart that compares the ratio of votes vs registered for the 4 age groups has changed over time.  \n",
    "__(25)__ Add an appropriate title to the chart."
   ]
  },
  {
   "cell_type": "code",
   "execution_count": 40,
   "metadata": {},
   "outputs": [
    {
     "data": {
      "image/png": "[encoded data removed]",
      "text/plain": [
       "<Figure size 432x288 with 1 Axes>"
      ]
     },
     "metadata": {
      "needs_background": "light"
     },
     "output_type": "display_data"
    }
   ],
   "source": [
    "# FILL-IN 24\n",
    "# FILL-IN 25\n",
    "xticks_BM = ~votes_df['Percent_V_to_R_18_24'].isna()\n",
    "dates = list(votes_df[xticks_BM].Year)\n",
    "\n",
    "#set the variables to graph\n",
    "var1 = list(votes_df[~votes_df.Percent_V_to_R_18_24.isna()].Percent_V_to_R_18_24)\n",
    "var2 = list(votes_df[~votes_df.Percent_V_to_R_25_44.isna()].Percent_V_to_R_25_44)\n",
    "var3 = list(votes_df[~votes_df.Percent_V_to_R_45_64.isna()].Percent_V_to_R_45_64)\n",
    "var4 = list(votes_df[~votes_df.Percent_V_to_R_65_and_over.isna()].Percent_V_to_R_65_and_over)\n",
    "\n",
    "\n",
    "plt.scatter(dates, var1,c = 'red', marker='o',alpha=0.7)\n",
    "plt.scatter(dates, var2,c = 'blue',marker='^',alpha=0.7)\n",
    "plt.scatter(dates, var3,c = 'green',marker='s',alpha=0.7)\n",
    "plt.scatter(dates, var4,c = 'orange', marker='D', alpha=0.7)\n",
    "\n",
    "#set the graph axis names, tick marks and labels\n",
    "plt.xticks(dates,rotation=90)\n",
    "plt.yticks(np.arange(30,100, 5))\n",
    "plt.legend(['18-24','25-44','45-64','65 and over'],bbox_to_anchor = (1 , 1))\n",
    "plt.ylabel('Voter to Registration Ratio (%)')\n",
    "plt.xlabel('Year')\n",
    "\n",
    "#add graph title\n",
    "plt.title('Voter to Registration Ratio for Age Groups (1982 to 2014)')\n",
    "plt.show()"
   ]
  },
  {
   "cell_type": "markdown",
   "metadata": {},
   "source": [
    "We see a trend that younger age groups voter to registration ratios are lower than older age groups. The percentages are significantly lower for the 18-24 and 25-44 age groups. Age groups 44-65 and 65 and older group percentages are close to each other.\n",
    "\n",
    "18-24 and 25-44 age groups have an interesting alternating pattern from 1986 to 2014 that every 2 years there is a significant (20-40%) difference in the voter to registration ratios. The alternating pattern for age groups 45-64 and 65 and older are much smaller. \n",
    "\n",
    "I graphed all the age groups with a line graph to make this alternating pattern more visible."
   ]
  },
  {
   "cell_type": "code",
   "execution_count": 41,
   "metadata": {},
   "outputs": [
    {
     "data": {
      "image/png": "[encoded data removed]",
      "text/plain": [
       "<Figure size 432x288 with 1 Axes>"
      ]
     },
     "metadata": {
      "needs_background": "light"
     },
     "output_type": "display_data"
    }
   ],
   "source": [
    "# FILL-IN 24\n",
    "# FILL-IN 25\n",
    "xticks_BM = ~votes_df['Percent_V_to_R_18_24'].isna()\n",
    "dates = list(votes_df[xticks_BM].Year)\n",
    "\n",
    "#set the variables to graph\n",
    "var1 = list(votes_df[~votes_df.Percent_V_to_R_18_24.isna()].Percent_V_to_R_18_24)\n",
    "var2 = list(votes_df[~votes_df.Percent_V_to_R_25_44.isna()].Percent_V_to_R_25_44)\n",
    "var3 = list(votes_df[~votes_df.Percent_V_to_R_45_64.isna()].Percent_V_to_R_45_64)\n",
    "var4 = list(votes_df[~votes_df.Percent_V_to_R_65_and_over.isna()].Percent_V_to_R_65_and_over)\n",
    "\n",
    "\n",
    "plt.plot(dates, var1,c = 'red', marker='o',alpha=0.7)\n",
    "plt.plot(dates, var2,c = 'blue',marker='^',alpha=0.7)\n",
    "plt.plot(dates, var3,c = 'green',marker='s',alpha=0.7)\n",
    "plt.plot(dates, var4,c = 'orange', marker='D', alpha=0.7)\n",
    "\n",
    "#set the graph axis names, tick marks and labels\n",
    "plt.xticks(dates,rotation=90)\n",
    "plt.yticks(np.arange(30,100, 5))\n",
    "plt.legend(['18-24','25-44','45-64','65 and over'],bbox_to_anchor = (1 , 1))\n",
    "plt.ylabel('Voter to Registration Ratio (%)')\n",
    "plt.xlabel('Year')\n",
    "\n",
    "#add graph title\n",
    "plt.title('Voter to Registration Ratio for Age Groups (1982 to 2014)')\n",
    "plt.show()"
   ]
  },
  {
   "cell_type": "code",
   "execution_count": null,
   "metadata": {},
   "outputs": [],
   "source": []
  }
 ],
 "metadata": {
  "kernelspec": {
   "display_name": "Python 3 (ipykernel)",
   "language": "python",
   "name": "python3"
  },
  "language_info": {
   "codemirror_mode": {
    "name": "ipython",
    "version": 3
   },
   "file_extension": ".py",
   "mimetype": "text/x-python",
   "name": "python",
   "nbconvert_exporter": "python",
   "pygments_lexer": "ipython3",
   "version": "3.10.2"
  }
 },
 "nbformat": 4,
 "nbformat_minor": 2
}
